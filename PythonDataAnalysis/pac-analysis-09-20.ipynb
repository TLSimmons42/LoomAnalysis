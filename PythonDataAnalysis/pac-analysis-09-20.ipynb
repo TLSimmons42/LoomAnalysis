{
 "cells": [
  {
   "cell_type": "code",
   "execution_count": 2,
   "metadata": {},
   "outputs": [],
   "source": [
    "import pandas as pd\n",
    "import numpy as np\n",
    "import matplotlib.pyplot as plt\n",
    "import os\n",
    "import seaborn as sns"
   ]
  },
  {
   "cell_type": "markdown",
   "metadata": {},
   "source": [
    "#### Merge all data into single dataframe"
   ]
  },
  {
   "cell_type": "code",
   "execution_count": 3,
   "metadata": {},
   "outputs": [
    {
     "name": "stdout",
     "output_type": "stream",
     "text": [
      "analytics_P23.csv\n"
     ]
    },
    {
     "data": {
      "text/plain": [
       "array(['P23'], dtype=object)"
      ]
     },
     "metadata": {},
     "output_type": "display_data"
    },
    {
     "name": "stdout",
     "output_type": "stream",
     "text": [
      "analytics_P22.csv\n"
     ]
    },
    {
     "data": {
      "text/plain": [
       "array(['P22'], dtype=object)"
      ]
     },
     "metadata": {},
     "output_type": "display_data"
    },
    {
     "name": "stdout",
     "output_type": "stream",
     "text": [
      "analyticsP5.csv\n"
     ]
    },
    {
     "data": {
      "text/plain": [
       "array(['P5'], dtype=object)"
      ]
     },
     "metadata": {},
     "output_type": "display_data"
    },
    {
     "name": "stdout",
     "output_type": "stream",
     "text": [
      "analytics_P20.csv\n"
     ]
    },
    {
     "data": {
      "text/plain": [
       "array(['P20'], dtype=object)"
      ]
     },
     "metadata": {},
     "output_type": "display_data"
    },
    {
     "name": "stdout",
     "output_type": "stream",
     "text": [
      "analytics_P21.csv\n"
     ]
    },
    {
     "data": {
      "text/plain": [
       "array(['P21'], dtype=object)"
      ]
     },
     "metadata": {},
     "output_type": "display_data"
    },
    {
     "name": "stdout",
     "output_type": "stream",
     "text": [
      "analytics_P19.csv\n"
     ]
    },
    {
     "data": {
      "text/plain": [
       "array(['P19'], dtype=object)"
      ]
     },
     "metadata": {},
     "output_type": "display_data"
    },
    {
     "name": "stdout",
     "output_type": "stream",
     "text": [
      "analytics_P25.csv\n"
     ]
    },
    {
     "data": {
      "text/plain": [
       "array(['P25'], dtype=object)"
      ]
     },
     "metadata": {},
     "output_type": "display_data"
    },
    {
     "name": "stdout",
     "output_type": "stream",
     "text": [
      "analytics_P24.csv\n"
     ]
    },
    {
     "data": {
      "text/plain": [
       "array(['P24'], dtype=object)"
      ]
     },
     "metadata": {},
     "output_type": "display_data"
    },
    {
     "name": "stdout",
     "output_type": "stream",
     "text": [
      "analytics_P18.csv\n"
     ]
    },
    {
     "data": {
      "text/plain": [
       "array(['P18'], dtype=object)"
      ]
     },
     "metadata": {},
     "output_type": "display_data"
    },
    {
     "name": "stdout",
     "output_type": "stream",
     "text": [
      "analytics_P26.csv\n"
     ]
    },
    {
     "data": {
      "text/plain": [
       "array(['P26'], dtype=object)"
      ]
     },
     "metadata": {},
     "output_type": "display_data"
    },
    {
     "name": "stdout",
     "output_type": "stream",
     "text": [
      "analytics_P27.csv\n"
     ]
    },
    {
     "data": {
      "text/plain": [
       "array(['P27'], dtype=object)"
      ]
     },
     "metadata": {},
     "output_type": "display_data"
    },
    {
     "name": "stdout",
     "output_type": "stream",
     "text": [
      "analytics_P3.csv\n"
     ]
    },
    {
     "data": {
      "text/plain": [
       "array(['P3'], dtype=object)"
      ]
     },
     "metadata": {},
     "output_type": "display_data"
    },
    {
     "name": "stdout",
     "output_type": "stream",
     "text": [
      "analytics_P2.csv\n"
     ]
    },
    {
     "data": {
      "text/plain": [
       "array(['P2'], dtype=object)"
      ]
     },
     "metadata": {},
     "output_type": "display_data"
    },
    {
     "name": "stdout",
     "output_type": "stream",
     "text": [
      "analytics_P6.csv\n"
     ]
    },
    {
     "data": {
      "text/plain": [
       "array(['P6'], dtype=object)"
      ]
     },
     "metadata": {},
     "output_type": "display_data"
    },
    {
     "name": "stdout",
     "output_type": "stream",
     "text": [
      "analytics_P7.csv\n"
     ]
    },
    {
     "data": {
      "text/plain": [
       "array(['P7'], dtype=object)"
      ]
     },
     "metadata": {},
     "output_type": "display_data"
    },
    {
     "name": "stdout",
     "output_type": "stream",
     "text": [
      "analytics_P4.csv\n"
     ]
    },
    {
     "data": {
      "text/plain": [
       "array(['P4'], dtype=object)"
      ]
     },
     "metadata": {},
     "output_type": "display_data"
    },
    {
     "name": "stdout",
     "output_type": "stream",
     "text": [
      "analytics_P9.csv\n"
     ]
    },
    {
     "data": {
      "text/plain": [
       "array(['P9'], dtype=object)"
      ]
     },
     "metadata": {},
     "output_type": "display_data"
    },
    {
     "name": "stdout",
     "output_type": "stream",
     "text": [
      "analytics_P8.csv\n"
     ]
    },
    {
     "data": {
      "text/plain": [
       "array(['P8'], dtype=object)"
      ]
     },
     "metadata": {},
     "output_type": "display_data"
    },
    {
     "name": "stdout",
     "output_type": "stream",
     "text": [
      "analytics_P16.csv\n"
     ]
    },
    {
     "data": {
      "text/plain": [
       "array(['P16'], dtype=object)"
      ]
     },
     "metadata": {},
     "output_type": "display_data"
    },
    {
     "name": "stdout",
     "output_type": "stream",
     "text": [
      "analytics_P28.csv\n"
     ]
    },
    {
     "data": {
      "text/plain": [
       "array(['P28'], dtype=object)"
      ]
     },
     "metadata": {},
     "output_type": "display_data"
    },
    {
     "name": "stdout",
     "output_type": "stream",
     "text": [
      "analytics_P14.csv\n"
     ]
    },
    {
     "data": {
      "text/plain": [
       "array(['P14'], dtype=object)"
      ]
     },
     "metadata": {},
     "output_type": "display_data"
    },
    {
     "name": "stdout",
     "output_type": "stream",
     "text": [
      "analytics_P10.csv\n"
     ]
    },
    {
     "data": {
      "text/plain": [
       "array(['P10'], dtype=object)"
      ]
     },
     "metadata": {},
     "output_type": "display_data"
    },
    {
     "name": "stdout",
     "output_type": "stream",
     "text": [
      "analytics_P11.csv\n"
     ]
    },
    {
     "data": {
      "text/plain": [
       "array(['P11'], dtype=object)"
      ]
     },
     "metadata": {},
     "output_type": "display_data"
    },
    {
     "name": "stdout",
     "output_type": "stream",
     "text": [
      "analytics_P13.csv\n"
     ]
    },
    {
     "data": {
      "text/plain": [
       "array(['P13'], dtype=object)"
      ]
     },
     "metadata": {},
     "output_type": "display_data"
    },
    {
     "name": "stdout",
     "output_type": "stream",
     "text": [
      "analytics_P12.csv\n"
     ]
    },
    {
     "data": {
      "text/plain": [
       "array(['P12'], dtype=object)"
      ]
     },
     "metadata": {},
     "output_type": "display_data"
    },
    {
     "data": {
      "text/plain": [
       "(219403, 12)"
      ]
     },
     "execution_count": 3,
     "metadata": {},
     "output_type": "execute_result"
    }
   ],
   "source": [
    "df = pd.DataFrame()\n",
    "dir_files = os.listdir(\"./Loom Data 09:20/Loom Data/P-all/\")\n",
    "\n",
    "for f in dir_files:\n",
    "    if f[0] == '.': # Ignore other files\n",
    "        continue\n",
    "    print(f)\n",
    "    temp_df = pd.read_csv(\"./Loom Data 09:20/Loom Data/P-all/\" + str(f), delimiter=\",\")\n",
    "    display(temp_df.participant.unique())\n",
    "    df = pd.concat([df, temp_df], ignore_index=True)\n",
    "\n",
    "df.shape"
   ]
  },
  {
   "cell_type": "markdown",
   "metadata": {},
   "source": [
    "#### Function to get the mean time differences for 4 different conditions \n",
    "\n",
    "Input - Dataframe, Participant List\n",
    "\n",
    "Output - List of time taken by participants for each event in consideration x 4 different conditions"
   ]
  },
  {
   "cell_type": "code",
   "execution_count": 4,
   "metadata": {},
   "outputs": [
    {
     "data": {
      "text/plain": [
       "25"
      ]
     },
     "execution_count": 4,
     "metadata": {},
     "output_type": "execute_result"
    }
   ],
   "source": [
    "df.participant.nunique()"
   ]
  },
  {
   "cell_type": "code",
   "execution_count": 5,
   "metadata": {},
   "outputs": [],
   "source": [
    "def pacAnalysis(df, p_list):\n",
    "    df = df[df.participant.isin(p_list)]\n",
    "\n",
    "    # Single Player Mode \n",
    "\n",
    "    df1_single = df[df.Condition == 's']\n",
    "    mask = (df1_single[\"Event\"].ne(df1_single[\"Event\"].shift()))\n",
    "    df1_s_unique = df1_single[mask]\n",
    "\n",
    "    mask = (df1_single[\"Event\"].ne(df1_single[\"Event\"].shift()))\n",
    "    df1_s_unique = df1_single[mask]\n",
    "\n",
    "    # Events to consider\n",
    "    event_hashmap_p1 = {\n",
    "        'looking at red cube': 'Regular Red Cube(Clone) was picked up',\n",
    "        'looking at blue cube': 'Regular Blue Cube(Clone) was picked up',\n",
    "        'looking at invis cube': 'Regular Neutral Cube(Clone) was picked up',\n",
    "        'looking at gold cube': 'Regular Gold Cube(Clone) was picked up',\n",
    "    }\n",
    "\n",
    "    event_hashmap_p2 = {\n",
    "        'looking at Drop Zone': ['Regular Red Cube(Clone)was placed in dropzone',\n",
    "                                'Regular Blue Cube(Clone)was placed in dropzone',\n",
    "                                'Regular Neutral Cube(Clone)was placed in dropzone',\n",
    "                                'Regular Gold Cube(Clone)was placed in dropzone']\n",
    "    }\n",
    "    \n",
    "    events_p1 = event_hashmap_p1.keys()\n",
    "    events_p2 = event_hashmap_p2.keys()\n",
    "\n",
    "    look_new_seq = True\n",
    "    drop_index = list()\n",
    "\n",
    "    # Loop and check\n",
    "    for i in df1_s_unique.index:\n",
    "        curr_event = df1_s_unique.loc[i, \"Event\"]\n",
    "        if look_new_seq:\n",
    "            if curr_event in events_p1:\n",
    "                looking_index = i\n",
    "                looking_for = event_hashmap_p1[curr_event]\n",
    "                look_new_seq = False\n",
    "            else:\n",
    "                drop_index.append(i)\n",
    "        else:\n",
    "            if curr_event == looking_for:\n",
    "                look_new_seq = True\n",
    "            elif curr_event in events_p1:\n",
    "                drop_index.append(looking_index)\n",
    "                looking_for = event_hashmap_p1[curr_event]\n",
    "                looking_index = i\n",
    "            else: \n",
    "                drop_index.append(looking_index)\n",
    "                drop_index.append(i)\n",
    "                look_new_seq = True\n",
    "\n",
    "    pac1_df = df1_s_unique.drop(index=drop_index).copy()\n",
    "    \n",
    "    look_new_seq = True\n",
    "    drop_index = list()\n",
    "\n",
    "    for i in df1_s_unique.index:\n",
    "        curr_event = df1_s_unique.loc[i, \"Event\"]\n",
    "        if look_new_seq:\n",
    "            if curr_event in events_p2:\n",
    "                looking_index = i\n",
    "                looking_for = event_hashmap_p2[curr_event]\n",
    "                look_new_seq = False\n",
    "            else:\n",
    "                drop_index.append(i)\n",
    "        else:\n",
    "            if curr_event in looking_for:\n",
    "                look_new_seq = True\n",
    "            elif curr_event in events_p2:\n",
    "                drop_index.append(looking_index)\n",
    "                looking_for = event_hashmap_p2[curr_event]\n",
    "                looking_index = i\n",
    "            else: \n",
    "                drop_index.append(looking_index)\n",
    "                drop_index.append(i)\n",
    "                look_new_seq = True\n",
    "\n",
    "    pac2_df = df1_s_unique.drop(index=drop_index).copy()\n",
    "\n",
    "    # Co-operative mode\n",
    "    df1_co = df[df.Condition == \"co\"]\n",
    "\n",
    "    mask_co = (df1_co[\"Event\"].ne(df1_co[\"Event\"].shift()))\n",
    "    df1_co_unique = df1_co[mask_co]\n",
    "\n",
    "    # Events to look for\n",
    "    event_hashmap_p1_co = {\n",
    "        'looking at red cube': 'Network Red Cube(Clone) was picked up',\n",
    "        'looking at blue cube': 'Network Blue Cube(Clone) was picked up',\n",
    "        'looking at invis cube': 'Network Neutral Cube(Clone) was picked up',\n",
    "        'looking at gold cube': 'Network Gold Cube Whole(Clone) was picked up',\n",
    "    }\n",
    "\n",
    "    event_hashmap_p2_co = {\n",
    "        'looking at Drop Zone': ['Network Red Cube(Clone)was placed in dropzone',\n",
    "                                'Network Blue Cube(Clone)was placed in dropzone',\n",
    "                                'Network Neutral Cube(Clone)was placed in dropzone',\n",
    "                                \"Network Gold Cube(Clone)was placed in dropzone\",\n",
    "                                \"Network Gold Left Half(Clone)was placed in dropzone\",\n",
    "                                \"Network Gold Right Half(Clone)was placed in dropzone\"\n",
    "                                ]\n",
    "    }\n",
    "\n",
    "    events_p1_co = event_hashmap_p1_co.keys()\n",
    "    events_p2_co = event_hashmap_p2_co.keys()\n",
    "\n",
    "    look_new_seq = True\n",
    "    drop_index = list()\n",
    "\n",
    "    for i in df1_co_unique.index:\n",
    "        curr_event = df1_co_unique.loc[i, \"Event\"]\n",
    "        if look_new_seq:\n",
    "            if curr_event in events_p1_co:\n",
    "                looking_index = i\n",
    "                looking_for = event_hashmap_p1_co[curr_event]\n",
    "                look_new_seq = False\n",
    "            else:\n",
    "                drop_index.append(i)\n",
    "        else:\n",
    "            if curr_event == looking_for:\n",
    "                look_new_seq = True\n",
    "            elif curr_event in events_p1_co:\n",
    "                drop_index.append(looking_index)\n",
    "                looking_for = event_hashmap_p1_co[curr_event]\n",
    "                looking_index = i\n",
    "            else: \n",
    "                drop_index.append(looking_index)\n",
    "                drop_index.append(i)\n",
    "                look_new_seq = True\n",
    "\n",
    "    pac1_co_df = df1_co_unique.drop(index=drop_index).copy()\n",
    "\n",
    "    look_new_seq = True\n",
    "    drop_index = list()\n",
    "\n",
    "    for i in df1_co_unique.index:\n",
    "        curr_event = df1_co_unique.loc[i, \"Event\"]\n",
    "        if look_new_seq:\n",
    "            if curr_event in events_p2_co:\n",
    "                looking_index = i\n",
    "                looking_for = event_hashmap_p2_co[curr_event]\n",
    "                look_new_seq = False\n",
    "            else:\n",
    "                drop_index.append(i)\n",
    "        else:\n",
    "            if curr_event in looking_for:\n",
    "                look_new_seq = True\n",
    "            elif curr_event in events_p2_co:\n",
    "                drop_index.append(looking_index)\n",
    "                looking_for = event_hashmap_p2_co[curr_event]\n",
    "                looking_index = i\n",
    "            else: \n",
    "                drop_index.append(looking_index)\n",
    "                drop_index.append(i)\n",
    "                look_new_seq = True\n",
    "\n",
    "    pac2_co_df = df1_co_unique.drop(index=drop_index).copy()\n",
    "    \n",
    "    # Calculate the time differences \n",
    "    pac1_vals = list()\n",
    "    pac1_df.reset_index(inplace=True)\n",
    "    for i in range(pac1_df.shape[0]):\n",
    "        if i % 2 == 0:\n",
    "            x = pac1_df.loc[i, \"TimeStamp\"]\n",
    "        else:\n",
    "            y = pac1_df.loc[i, \"TimeStamp\"]\n",
    "            val = (y - x) / 10000\n",
    "            pac1_vals.append(val)\n",
    "    \n",
    "    pac2_vals = list()\n",
    "    pac2_df.reset_index(inplace=True)\n",
    "    for i in range(pac2_df.shape[0]):\n",
    "        if i % 2 == 0:\n",
    "            x = pac2_df.loc[i, \"TimeStamp\"]\n",
    "        else:\n",
    "            y = pac2_df.loc[i, \"TimeStamp\"]\n",
    "            pac2_vals.append((y - x) / 10000)\n",
    "    \n",
    "    pac1_co_vals = list()\n",
    "    pac1_co_df.reset_index(inplace=True)\n",
    "    for i in range(pac1_co_df.shape[0]):\n",
    "        if i % 2 == 0:\n",
    "            x = pac1_co_df.loc[i, \"TimeStamp\"]\n",
    "        else:\n",
    "            y = pac1_co_df.loc[i, \"TimeStamp\"]\n",
    "            pac1_co_vals.append((y - x) / 10000)\n",
    "    \n",
    "    pac2_co_vals = list()\n",
    "    pac2_co_df.reset_index(inplace=True)\n",
    "    for i in range(pac2_co_df.shape[0]):\n",
    "        if i % 2 == 0:\n",
    "            x = pac2_co_df.loc[i, \"TimeStamp\"]\n",
    "        else:\n",
    "            y = pac2_co_df.loc[i, \"TimeStamp\"]\n",
    "            pac2_co_vals.append((y - x) / 10000)\n",
    "\n",
    "    # Calculate the means\n",
    "    pac1_mean = round(np.mean(pac1_vals), 2)\n",
    "    pac2_mean = round(np.mean(pac2_vals), 2)\n",
    "    pac1_co_mean = round(np.mean(pac1_co_vals), 2)\n",
    "    pac2_co_mean = round(np.mean(pac2_co_vals), 2)\n",
    "    \n",
    "    print(\"PAC1 Average: {} ms\".format(pac1_mean))\n",
    "    print(\"PAC2 Average: {} ms\".format(pac2_mean))\n",
    "    print(\"PAC1 Co Average: {} ms\".format(pac1_co_mean))\n",
    "    print(\"PAC2 Co Average: {} ms\".format(pac2_co_mean))\n",
    "\n",
    "    return pac1_vals, pac2_vals, pac1_co_vals, pac2_co_vals\n"
   ]
  },
  {
   "cell_type": "code",
   "execution_count": 6,
   "metadata": {},
   "outputs": [
    {
     "data": {
      "text/plain": [
       "['P23',\n",
       " 'P22',\n",
       " 'P5',\n",
       " 'P20',\n",
       " 'P21',\n",
       " 'P19',\n",
       " 'P25',\n",
       " 'P24',\n",
       " 'P18',\n",
       " 'P26',\n",
       " 'P27',\n",
       " 'P9',\n",
       " 'P28',\n",
       " 'P13']"
      ]
     },
     "execution_count": 6,
     "metadata": {},
     "output_type": "execute_result"
    }
   ],
   "source": [
    "# Defining the groups\n",
    "age_list = [\"P10\", \"P11\", \"P12\", \"P14\", \"P16\", \"P2\", \"P20\", \"P21\", \"P25\", \"P28\", \\\n",
    "    \"P4\", \"P6\", \"P8\", \"P9\"]\n",
    "all_list = list(df.participant.unique())\n",
    "asd_list = [\"P2\", \"P3\", \"P4\", \"P6\", \"P7\", \"P8\", \"P10\", \"P11\", \"P12\", \"P14\", \"P16\"]\n",
    "nt_list = [x for x in all_list if x not in asd_list]\n",
    "\n",
    "nt_list"
   ]
  },
  {
   "cell_type": "markdown",
   "metadata": {},
   "source": [
    "#### PAC on participants in spectrum"
   ]
  },
  {
   "cell_type": "code",
   "execution_count": 7,
   "metadata": {},
   "outputs": [
    {
     "name": "stdout",
     "output_type": "stream",
     "text": [
      "PAC1 Average: 369.46 ms\n",
      "PAC2 Average: 310.68 ms\n",
      "PAC1 Co Average: 284.44 ms\n",
      "PAC2 Co Average: 658.07 ms\n"
     ]
    }
   ],
   "source": [
    "pac_asd_vals = pacAnalysis(df, asd_list)"
   ]
  },
  {
   "cell_type": "markdown",
   "metadata": {},
   "source": [
    "#### PAC on NT participants "
   ]
  },
  {
   "cell_type": "code",
   "execution_count": 8,
   "metadata": {},
   "outputs": [
    {
     "name": "stdout",
     "output_type": "stream",
     "text": [
      "PAC1 Average: 364.61 ms\n",
      "PAC2 Average: 353.77 ms\n",
      "PAC1 Co Average: 438.66 ms\n",
      "PAC2 Co Average: 499.44 ms\n"
     ]
    }
   ],
   "source": [
    "pac_nt_vals = pacAnalysis(df, nt_list)"
   ]
  },
  {
   "cell_type": "markdown",
   "metadata": {},
   "source": [
    "- Grouped barplot\n",
    "- Grouped boxplot\n",
    "- Clean code and send html "
   ]
  },
  {
   "cell_type": "code",
   "execution_count": 9,
   "metadata": {},
   "outputs": [
    {
     "data": {
      "text/html": [
       "<div>\n",
       "<style scoped>\n",
       "    .dataframe tbody tr th:only-of-type {\n",
       "        vertical-align: middle;\n",
       "    }\n",
       "\n",
       "    .dataframe tbody tr th {\n",
       "        vertical-align: top;\n",
       "    }\n",
       "\n",
       "    .dataframe thead th {\n",
       "        text-align: right;\n",
       "    }\n",
       "</style>\n",
       "<table border=\"1\" class=\"dataframe\">\n",
       "  <thead>\n",
       "    <tr style=\"text-align: right;\">\n",
       "      <th></th>\n",
       "      <th>Event</th>\n",
       "      <th>Group</th>\n",
       "      <th>Mean Time (ms)</th>\n",
       "    </tr>\n",
       "  </thead>\n",
       "  <tbody>\n",
       "    <tr>\n",
       "      <th>0</th>\n",
       "      <td>PAC-1</td>\n",
       "      <td>Neurotypical</td>\n",
       "      <td>364.61</td>\n",
       "    </tr>\n",
       "    <tr>\n",
       "      <th>1</th>\n",
       "      <td>PAC-2</td>\n",
       "      <td>Neurotypical</td>\n",
       "      <td>353.77</td>\n",
       "    </tr>\n",
       "    <tr>\n",
       "      <th>2</th>\n",
       "      <td>PAC-1 Co-op</td>\n",
       "      <td>Neurotypical</td>\n",
       "      <td>438.66</td>\n",
       "    </tr>\n",
       "    <tr>\n",
       "      <th>3</th>\n",
       "      <td>PAC-2 Co-op</td>\n",
       "      <td>Neurotypical</td>\n",
       "      <td>499.44</td>\n",
       "    </tr>\n",
       "    <tr>\n",
       "      <th>4</th>\n",
       "      <td>PAC-1</td>\n",
       "      <td>ASD</td>\n",
       "      <td>369.46</td>\n",
       "    </tr>\n",
       "    <tr>\n",
       "      <th>5</th>\n",
       "      <td>PAC-2</td>\n",
       "      <td>ASD</td>\n",
       "      <td>310.68</td>\n",
       "    </tr>\n",
       "    <tr>\n",
       "      <th>6</th>\n",
       "      <td>PAC-1 Co-op</td>\n",
       "      <td>ASD</td>\n",
       "      <td>284.44</td>\n",
       "    </tr>\n",
       "    <tr>\n",
       "      <th>7</th>\n",
       "      <td>PAC-2 Co-op</td>\n",
       "      <td>ASD</td>\n",
       "      <td>658.07</td>\n",
       "    </tr>\n",
       "  </tbody>\n",
       "</table>\n",
       "</div>"
      ],
      "text/plain": [
       "         Event         Group  Mean Time (ms)\n",
       "0        PAC-1  Neurotypical          364.61\n",
       "1        PAC-2  Neurotypical          353.77\n",
       "2  PAC-1 Co-op  Neurotypical          438.66\n",
       "3  PAC-2 Co-op  Neurotypical          499.44\n",
       "4        PAC-1           ASD          369.46\n",
       "5        PAC-2           ASD          310.68\n",
       "6  PAC-1 Co-op           ASD          284.44\n",
       "7  PAC-2 Co-op           ASD          658.07"
      ]
     },
     "execution_count": 9,
     "metadata": {},
     "output_type": "execute_result"
    }
   ],
   "source": [
    "# Create dataframe for plotting\n",
    "\n",
    "cols = [\"Event\", \"Group\", \"Mean Time (ms)\"]\n",
    "\n",
    "event_list = [\"PAC-1\", \"PAC-2\", \"PAC-1 Co-op\", \"PAC-2 Co-op\"] * 2\n",
    "group_list = [\"Neurotypical\"] * 4\n",
    "group_list.extend([\"ASD\"] * 4)\n",
    "mean_val_list = list()\n",
    "for x in pac_nt_vals:\n",
    "    mean_val_list.append(round(np.mean(x), 2))\n",
    "for x in pac_asd_vals:\n",
    "    mean_val_list.append(round(np.mean(x), 2))\n",
    "\n",
    "df_res = pd.DataFrame(dict(zip(cols, [event_list, group_list, mean_val_list])))\n",
    "df_res"
   ]
  },
  {
   "cell_type": "code",
   "execution_count": 10,
   "metadata": {},
   "outputs": [
    {
     "data": {
      "image/png": "[encoded data removed]",
      "text/plain": [
       "<Figure size 819.25x360 with 1 Axes>"
      ]
     },
     "metadata": {
      "needs_background": "light"
     },
     "output_type": "display_data"
    }
   ],
   "source": [
    "g = sns.catplot(data=df_res, x=\"Event\", y=\"Mean Time (ms)\", hue=\"Group\", kind=\"bar\", aspect=2)\n",
    "plt.title(\"Average Time Duration (ms) - All participants\")\n",
    "new_labels = ['Neurotypical ({})'.format(len(nt_list)), \\\n",
    "    'ASD ({})'.format(len(asd_list))]\n",
    "g.set_xticklabels([\"Moving\", \"Static\", \"Moving Co-op\", \"Static Co-op\"])\n",
    "\n",
    "for t, l in zip(g._legend.texts, new_labels):\n",
    "    t.set_text(l)"
   ]
  },
  {
   "cell_type": "markdown",
   "metadata": {},
   "source": [
    "Inference from the above plot -\n",
    "\n",
    "No significant difference in single player mode\n",
    "\n",
    "But contrasting difference in co-operative player mode - This could also be due to influence of huge outliers "
   ]
  },
  {
   "cell_type": "code",
   "execution_count": 11,
   "metadata": {},
   "outputs": [
    {
     "data": {
      "text/html": [
       "<div>\n",
       "<style scoped>\n",
       "    .dataframe tbody tr th:only-of-type {\n",
       "        vertical-align: middle;\n",
       "    }\n",
       "\n",
       "    .dataframe tbody tr th {\n",
       "        vertical-align: top;\n",
       "    }\n",
       "\n",
       "    .dataframe thead th {\n",
       "        text-align: right;\n",
       "    }\n",
       "</style>\n",
       "<table border=\"1\" class=\"dataframe\">\n",
       "  <thead>\n",
       "    <tr style=\"text-align: right;\">\n",
       "      <th></th>\n",
       "      <th>Event</th>\n",
       "      <th>Group</th>\n",
       "      <th>Time (ms)</th>\n",
       "    </tr>\n",
       "  </thead>\n",
       "  <tbody>\n",
       "    <tr>\n",
       "      <th>0</th>\n",
       "      <td>PAC-1</td>\n",
       "      <td>Neurotypical</td>\n",
       "      <td>2663.1680</td>\n",
       "    </tr>\n",
       "    <tr>\n",
       "      <th>1</th>\n",
       "      <td>PAC-1</td>\n",
       "      <td>Neurotypical</td>\n",
       "      <td>359.6288</td>\n",
       "    </tr>\n",
       "    <tr>\n",
       "      <th>2</th>\n",
       "      <td>PAC-1</td>\n",
       "      <td>Neurotypical</td>\n",
       "      <td>172.5312</td>\n",
       "    </tr>\n",
       "    <tr>\n",
       "      <th>3</th>\n",
       "      <td>PAC-1</td>\n",
       "      <td>Neurotypical</td>\n",
       "      <td>389.9520</td>\n",
       "    </tr>\n",
       "    <tr>\n",
       "      <th>4</th>\n",
       "      <td>PAC-1</td>\n",
       "      <td>Neurotypical</td>\n",
       "      <td>217.2800</td>\n",
       "    </tr>\n",
       "    <tr>\n",
       "      <th>...</th>\n",
       "      <td>...</td>\n",
       "      <td>...</td>\n",
       "      <td>...</td>\n",
       "    </tr>\n",
       "    <tr>\n",
       "      <th>3476</th>\n",
       "      <td>PAC-2 Co-op</td>\n",
       "      <td>ASD</td>\n",
       "      <td>1053.2352</td>\n",
       "    </tr>\n",
       "    <tr>\n",
       "      <th>3477</th>\n",
       "      <td>PAC-2 Co-op</td>\n",
       "      <td>ASD</td>\n",
       "      <td>995.2256</td>\n",
       "    </tr>\n",
       "    <tr>\n",
       "      <th>3478</th>\n",
       "      <td>PAC-2 Co-op</td>\n",
       "      <td>ASD</td>\n",
       "      <td>459.1104</td>\n",
       "    </tr>\n",
       "    <tr>\n",
       "      <th>3479</th>\n",
       "      <td>PAC-2 Co-op</td>\n",
       "      <td>ASD</td>\n",
       "      <td>520.9472</td>\n",
       "    </tr>\n",
       "    <tr>\n",
       "      <th>3480</th>\n",
       "      <td>PAC-2 Co-op</td>\n",
       "      <td>ASD</td>\n",
       "      <td>760.1792</td>\n",
       "    </tr>\n",
       "  </tbody>\n",
       "</table>\n",
       "<p>3481 rows × 3 columns</p>\n",
       "</div>"
      ],
      "text/plain": [
       "            Event         Group  Time (ms)\n",
       "0           PAC-1  Neurotypical  2663.1680\n",
       "1           PAC-1  Neurotypical   359.6288\n",
       "2           PAC-1  Neurotypical   172.5312\n",
       "3           PAC-1  Neurotypical   389.9520\n",
       "4           PAC-1  Neurotypical   217.2800\n",
       "...           ...           ...        ...\n",
       "3476  PAC-2 Co-op           ASD  1053.2352\n",
       "3477  PAC-2 Co-op           ASD   995.2256\n",
       "3478  PAC-2 Co-op           ASD   459.1104\n",
       "3479  PAC-2 Co-op           ASD   520.9472\n",
       "3480  PAC-2 Co-op           ASD   760.1792\n",
       "\n",
       "[3481 rows x 3 columns]"
      ]
     },
     "execution_count": 11,
     "metadata": {},
     "output_type": "execute_result"
    }
   ],
   "source": [
    "# Dataframe for plotting\n",
    "cols = [\"Event\", \"Group\", \"Time (ms)\"]\n",
    "unique_event_list = [\"PAC-1\", \"PAC-2\", \"PAC-1 Co-op\", \"PAC-2 Co-op\"]\n",
    "unique_group_list = [\"Neurotypical\", \"ASD\"]\n",
    "\n",
    "event_list = list()\n",
    "group_list = list()\n",
    "times_list = list()\n",
    "\n",
    "for i, l in enumerate([pac_nt_vals, pac_asd_vals]):\n",
    "    summer = 0\n",
    "    for j, x in enumerate(l):\n",
    "        event_list.extend([unique_event_list[j]] * len(x))\n",
    "        summer += len(x)\n",
    "        times_list.extend(x)\n",
    "    group_list.extend([unique_group_list[i]] * summer)\n",
    "\n",
    "df_res2 = pd.DataFrame(dict(zip(cols, [event_list, group_list, times_list])))\n",
    "df_res2\n"
   ]
  },
  {
   "cell_type": "code",
   "execution_count": 13,
   "metadata": {},
   "outputs": [
    {
     "data": {
      "text/plain": [
       "array(['PAC-1', 'PAC-2', 'PAC-1 Co-op', 'PAC-2 Co-op'], dtype=object)"
      ]
     },
     "execution_count": 13,
     "metadata": {},
     "output_type": "execute_result"
    }
   ],
   "source": [
    "df_res2.Event.unique()"
   ]
  },
  {
   "cell_type": "code",
   "execution_count": 27,
   "metadata": {},
   "outputs": [
    {
     "data": {
      "image/png": "[encoded data removed]",
      "text/plain": [
       "<Figure size 675.25x360 with 1 Axes>"
      ]
     },
     "metadata": {
      "needs_background": "light"
     },
     "output_type": "display_data"
    }
   ],
   "source": [
    "g = sns.catplot(data=df_res2, x=\"Event\", y=\"Time (ms)\", hue=\"Group\", kind=\"box\", aspect=1.6, \\\n",
    "    showfliers=False)\n",
    "plt.title(\"Time Duration (ms) - All participants\")\n",
    "new_labels = ['NT ({})'.format(len(nt_list)), \\\n",
    "    'ASD ({})'.format(len(asd_list))]\n",
    "for t, l in zip(g._legend.texts, new_labels):\n",
    "    t.set_text(l)\n",
    "\n",
    "# Removed outliers for consideration "
   ]
  },
  {
   "cell_type": "markdown",
   "metadata": {},
   "source": [
    "Box plot of the individual events to analyze the variabiity \n",
    "\n",
    "Removed large time duration events (considering them as outliers)\n",
    "\n",
    "There is a drop in median time duration in events between the two groups"
   ]
  },
  {
   "cell_type": "code",
   "execution_count": 68,
   "metadata": {},
   "outputs": [
    {
     "data": {
      "text/plain": [
       "Text(0.5, 1.0, 'Time Duration (ms)')"
      ]
     },
     "execution_count": 68,
     "metadata": {},
     "output_type": "execute_result"
    },
    {
     "data": {
      "image/png": "[encoded data removed]",
      "text/plain": [
       "<Figure size 675.25x360 with 1 Axes>"
      ]
     },
     "metadata": {
      "needs_background": "light"
     },
     "output_type": "display_data"
    }
   ],
   "source": [
    "g = sns.catplot(data=df_res2, x=\"Event\", y=\"Time (ms)\", hue=\"Group\", kind=\"box\", aspect=1.6, \\\n",
    "    showfliers=True)\n",
    "plt.title(\"Time Duration (ms)\")\n",
    "\n",
    "# Plotting with the outliers for reference"
   ]
  },
  {
   "cell_type": "code",
   "execution_count": 30,
   "metadata": {},
   "outputs": [
    {
     "data": {
      "text/plain": [
       "['P20', 'P21', 'P25', 'P28', 'P9']"
      ]
     },
     "execution_count": 30,
     "metadata": {},
     "output_type": "execute_result"
    }
   ],
   "source": [
    "# Defining the groups\n",
    "age_list = [\"P10\", \"P11\", \"P12\", \"P14\", \"P16\", \"P2\", \"P20\", \"P21\", \"P25\", \"P28\", \\\n",
    "    \"P4\", \"P6\", \"P8\", \"P9\"]\n",
    "all_list = list(df.participant.unique())\n",
    "asd_list = [\"P2\", \"P3\", \"P4\", \"P6\", \"P7\", \"P8\", \"P10\", \"P11\", \"P12\", \"P14\", \"P16\"]\n",
    "nt_list = [x for x in age_list if x not in asd_list]\n",
    "\n",
    "nt_list"
   ]
  },
  {
   "cell_type": "code",
   "execution_count": 31,
   "metadata": {},
   "outputs": [
    {
     "name": "stdout",
     "output_type": "stream",
     "text": [
      "PAC1 Average: 369.46 ms\n",
      "PAC2 Average: 310.68 ms\n",
      "PAC1 Co Average: 284.44 ms\n",
      "PAC2 Co Average: 658.07 ms\n",
      "PAC1 Average: 316.74 ms\n",
      "PAC2 Average: 344.62 ms\n",
      "PAC1 Co Average: 463.24 ms\n",
      "PAC2 Co Average: 456.36 ms\n"
     ]
    }
   ],
   "source": [
    "pac_asd_vals = pacAnalysis(df, asd_list)\n",
    "pac_nt_vals = pacAnalysis(df, nt_list)\n",
    "\n",
    "# Create dataframe for plotting\n",
    "\n",
    "cols = [\"Event\", \"Group\", \"Mean Time (ms)\"]\n",
    "\n",
    "event_list = [\"PAC-1\", \"PAC-2\", \"PAC-1 Co-op\", \"PAC-2 Co-op\"] * 2\n",
    "group_list = [\"Neurotypical\"] * 4\n",
    "group_list.extend([\"ASD\"] * 4)\n",
    "mean_val_list = list()\n",
    "for x in pac_nt_vals:\n",
    "    mean_val_list.append(round(np.mean(x), 2))\n",
    "for x in pac_asd_vals:\n",
    "    mean_val_list.append(round(np.mean(x), 2))\n",
    "\n",
    "df_res = pd.DataFrame(dict(zip(cols, [event_list, group_list, mean_val_list])))"
   ]
  },
  {
   "cell_type": "code",
   "execution_count": 34,
   "metadata": {},
   "outputs": [
    {
     "data": {
      "image/png": "[encoded data removed]",
      "text/plain": [
       "<Figure size 819.25x360 with 1 Axes>"
      ]
     },
     "metadata": {
      "needs_background": "light"
     },
     "output_type": "display_data"
    }
   ],
   "source": [
    "g = sns.catplot(data=df_res, x=\"Event\", y=\"Mean Time (ms)\", hue=\"Group\", kind=\"bar\", aspect=2)\n",
    "plt.title(\"Average Time Duration (ms) - Age selected participants\")\n",
    "new_labels = ['Neurotypical ({})'.format(len(nt_list)), \\\n",
    "    'ASD ({})'.format(len(asd_list))]\n",
    "g.set_xticklabels([\"Moving\", \"Static\", \"Moving Co-op\", \"Static Co-op\"])\n",
    "\n",
    "for t, l in zip(g._legend.texts, new_labels):\n",
    "    t.set_text(l)"
   ]
  },
  {
   "cell_type": "code",
   "execution_count": 35,
   "metadata": {},
   "outputs": [
    {
     "data": {
      "image/png": "[encoded data removed]",
      "text/plain": [
       "<Figure size 675.25x360 with 1 Axes>"
      ]
     },
     "metadata": {
      "needs_background": "light"
     },
     "output_type": "display_data"
    }
   ],
   "source": [
    "g = sns.catplot(data=df_res2, x=\"Event\", y=\"Time (ms)\", hue=\"Group\", kind=\"box\", aspect=1.6, \\\n",
    "    showfliers=False)\n",
    "plt.title(\"Time Duration (ms) - Age selected participants\")\n",
    "new_labels = ['NT ({})'.format(len(nt_list)), \\\n",
    "    'ASD ({})'.format(len(asd_list))]\n",
    "for t, l in zip(g._legend.texts, new_labels):\n",
    "    t.set_text(l)\n",
    "\n",
    "# Removed outliers for consideration "
   ]
  },
  {
   "cell_type": "markdown",
   "metadata": {},
   "source": [
    "Number of Participants"
   ]
  },
  {
   "cell_type": "code",
   "execution_count": 13,
   "metadata": {},
   "outputs": [
    {
     "data": {
      "text/plain": [
       "16"
      ]
     },
     "execution_count": 13,
     "metadata": {},
     "output_type": "execute_result"
    }
   ],
   "source": [
    "participants_list = list()\n",
    "participants_list.extend(asd_list)\n",
    "participants_list.extend(nt_list)\n",
    "\n",
    "len(participants_list)"
   ]
  },
  {
   "cell_type": "markdown",
   "metadata": {},
   "source": [
    "Mean age of the participants (P3 excluded - 23 participants)"
   ]
  },
  {
   "cell_type": "code",
   "execution_count": 70,
   "metadata": {},
   "outputs": [
    {
     "data": {
      "text/plain": [
       "24.67"
      ]
     },
     "execution_count": 70,
     "metadata": {},
     "output_type": "execute_result"
    }
   ],
   "source": [
    "df_unique = df[df.participant.isin(participants_list)].groupby(\"participant\").apply(lambda x:x.iloc[0, :])\n",
    "df_unique.drop(\"P3\", inplace=True)\n",
    "\n",
    "round(df_unique[\"Age\"].astype('int32').mean(), 2)"
   ]
  },
  {
   "cell_type": "code",
   "execution_count": 71,
   "metadata": {},
   "outputs": [
    {
     "name": "stderr",
     "output_type": "stream",
     "text": [
      "/Users/naren/opt/anaconda3/lib/python3.8/site-packages/seaborn/_decorators.py:36: FutureWarning: Pass the following variable as a keyword arg: x. From version 0.12, the only valid positional argument will be `data`, and passing other arguments without an explicit keyword will result in an error or misinterpretation.\n",
      "  warnings.warn(\n"
     ]
    },
    {
     "data": {
      "text/plain": [
       "<matplotlib.axes._subplots.AxesSubplot at 0x7fd41a0b0700>"
      ]
     },
     "execution_count": 71,
     "metadata": {},
     "output_type": "execute_result"
    },
    {
     "data": {
      "image/png": "[encoded data removed]",
      "text/plain": [
       "<Figure size 432x288 with 1 Axes>"
      ]
     },
     "metadata": {
      "needs_background": "light"
     },
     "output_type": "display_data"
    }
   ],
   "source": [
    "sns.boxplot(df_unique.Age.astype('int32'))"
   ]
  },
  {
   "cell_type": "markdown",
   "metadata": {},
   "source": [
    "Count between Male and Female - (P3 and P7 excluded cuz data missing)"
   ]
  },
  {
   "cell_type": "code",
   "execution_count": 72,
   "metadata": {},
   "outputs": [
    {
     "data": {
      "text/html": [
       "<div>\n",
       "<style scoped>\n",
       "    .dataframe tbody tr th:only-of-type {\n",
       "        vertical-align: middle;\n",
       "    }\n",
       "\n",
       "    .dataframe tbody tr th {\n",
       "        vertical-align: top;\n",
       "    }\n",
       "\n",
       "    .dataframe thead th {\n",
       "        text-align: right;\n",
       "    }\n",
       "</style>\n",
       "<table border=\"1\" class=\"dataframe\">\n",
       "  <thead>\n",
       "    <tr style=\"text-align: right;\">\n",
       "      <th></th>\n",
       "      <th>TimeStamp</th>\n",
       "      <th>participant</th>\n",
       "      <th>Condition</th>\n",
       "      <th>Tiral</th>\n",
       "      <th>Age</th>\n",
       "      <th>Gender</th>\n",
       "      <th>SessionTime</th>\n",
       "      <th>Event</th>\n",
       "      <th>xPos</th>\n",
       "      <th>yPos</th>\n",
       "      <th>zPos</th>\n",
       "      <th>Group</th>\n",
       "    </tr>\n",
       "    <tr>\n",
       "      <th>participant</th>\n",
       "      <th></th>\n",
       "      <th></th>\n",
       "      <th></th>\n",
       "      <th></th>\n",
       "      <th></th>\n",
       "      <th></th>\n",
       "      <th></th>\n",
       "      <th></th>\n",
       "      <th></th>\n",
       "      <th></th>\n",
       "      <th></th>\n",
       "      <th></th>\n",
       "    </tr>\n",
       "  </thead>\n",
       "  <tbody>\n",
       "    <tr>\n",
       "      <th>P10</th>\n",
       "      <td>6.379590e+17</td>\n",
       "      <td>P10</td>\n",
       "      <td>tut</td>\n",
       "      <td>1</td>\n",
       "      <td>18</td>\n",
       "      <td>f</td>\n",
       "      <td>300.0</td>\n",
       "      <td>Game Start</td>\n",
       "      <td>NaN</td>\n",
       "      <td>NaN</td>\n",
       "      <td>NaN</td>\n",
       "      <td>NaN</td>\n",
       "    </tr>\n",
       "    <tr>\n",
       "      <th>P11</th>\n",
       "      <td>6.379590e+17</td>\n",
       "      <td>P11</td>\n",
       "      <td>tut</td>\n",
       "      <td>1</td>\n",
       "      <td>22</td>\n",
       "      <td>m</td>\n",
       "      <td>300.0</td>\n",
       "      <td>Game Start</td>\n",
       "      <td>NaN</td>\n",
       "      <td>NaN</td>\n",
       "      <td>NaN</td>\n",
       "      <td>NaN</td>\n",
       "    </tr>\n",
       "    <tr>\n",
       "      <th>P12</th>\n",
       "      <td>6.379591e+17</td>\n",
       "      <td>P12</td>\n",
       "      <td>tut</td>\n",
       "      <td>1</td>\n",
       "      <td>22</td>\n",
       "      <td>m</td>\n",
       "      <td>300.0</td>\n",
       "      <td>Game Start</td>\n",
       "      <td>NaN</td>\n",
       "      <td>NaN</td>\n",
       "      <td>NaN</td>\n",
       "      <td>NaN</td>\n",
       "    </tr>\n",
       "    <tr>\n",
       "      <th>P13</th>\n",
       "      <td>6.379591e+17</td>\n",
       "      <td>P13</td>\n",
       "      <td>tut</td>\n",
       "      <td>1</td>\n",
       "      <td>32</td>\n",
       "      <td>m</td>\n",
       "      <td>300.0</td>\n",
       "      <td>Game Start</td>\n",
       "      <td>NaN</td>\n",
       "      <td>NaN</td>\n",
       "      <td>NaN</td>\n",
       "      <td>NaN</td>\n",
       "    </tr>\n",
       "    <tr>\n",
       "      <th>P14</th>\n",
       "      <td>6.379591e+17</td>\n",
       "      <td>P14</td>\n",
       "      <td>tut</td>\n",
       "      <td>1</td>\n",
       "      <td>22</td>\n",
       "      <td>m</td>\n",
       "      <td>300.0</td>\n",
       "      <td>Game Start</td>\n",
       "      <td>NaN</td>\n",
       "      <td>NaN</td>\n",
       "      <td>NaN</td>\n",
       "      <td>NaN</td>\n",
       "    </tr>\n",
       "    <tr>\n",
       "      <th>P16</th>\n",
       "      <td>6.379590e+17</td>\n",
       "      <td>P16</td>\n",
       "      <td>tut</td>\n",
       "      <td>1</td>\n",
       "      <td>18</td>\n",
       "      <td>m</td>\n",
       "      <td>300.0</td>\n",
       "      <td>Game Start</td>\n",
       "      <td>NaN</td>\n",
       "      <td>NaN</td>\n",
       "      <td>NaN</td>\n",
       "      <td>NaN</td>\n",
       "    </tr>\n",
       "    <tr>\n",
       "      <th>P18</th>\n",
       "      <td>6.379807e+17</td>\n",
       "      <td>P18</td>\n",
       "      <td>tut</td>\n",
       "      <td>1</td>\n",
       "      <td>31</td>\n",
       "      <td>f</td>\n",
       "      <td>300.0</td>\n",
       "      <td>Game Start</td>\n",
       "      <td>NaN</td>\n",
       "      <td>NaN</td>\n",
       "      <td>NaN</td>\n",
       "      <td>NaN</td>\n",
       "    </tr>\n",
       "    <tr>\n",
       "      <th>P19</th>\n",
       "      <td>6.379810e+17</td>\n",
       "      <td>P19</td>\n",
       "      <td>tut</td>\n",
       "      <td>1</td>\n",
       "      <td>30</td>\n",
       "      <td>f</td>\n",
       "      <td>300.0</td>\n",
       "      <td>Game Start</td>\n",
       "      <td>NaN</td>\n",
       "      <td>NaN</td>\n",
       "      <td>NaN</td>\n",
       "      <td>NaN</td>\n",
       "    </tr>\n",
       "    <tr>\n",
       "      <th>P2</th>\n",
       "      <td>6.379626e+17</td>\n",
       "      <td>P2</td>\n",
       "      <td>s</td>\n",
       "      <td>1</td>\n",
       "      <td>19</td>\n",
       "      <td>m</td>\n",
       "      <td>300.0</td>\n",
       "      <td>Game Start</td>\n",
       "      <td>NaN</td>\n",
       "      <td>NaN</td>\n",
       "      <td>NaN</td>\n",
       "      <td>NaN</td>\n",
       "    </tr>\n",
       "    <tr>\n",
       "      <th>P20</th>\n",
       "      <td>6.379807e+17</td>\n",
       "      <td>P20</td>\n",
       "      <td>tut</td>\n",
       "      <td>1</td>\n",
       "      <td>25</td>\n",
       "      <td>m</td>\n",
       "      <td>300.0</td>\n",
       "      <td>Game Start</td>\n",
       "      <td>NaN</td>\n",
       "      <td>NaN</td>\n",
       "      <td>NaN</td>\n",
       "      <td>NaN</td>\n",
       "    </tr>\n",
       "    <tr>\n",
       "      <th>P21</th>\n",
       "      <td>6.379816e+17</td>\n",
       "      <td>P21</td>\n",
       "      <td>tut</td>\n",
       "      <td>1</td>\n",
       "      <td>25</td>\n",
       "      <td>m</td>\n",
       "      <td>300.0</td>\n",
       "      <td>Game Start</td>\n",
       "      <td>NaN</td>\n",
       "      <td>NaN</td>\n",
       "      <td>NaN</td>\n",
       "      <td>NaN</td>\n",
       "    </tr>\n",
       "    <tr>\n",
       "      <th>P22</th>\n",
       "      <td>6.379824e+17</td>\n",
       "      <td>P22</td>\n",
       "      <td>tut</td>\n",
       "      <td>1</td>\n",
       "      <td>32</td>\n",
       "      <td>f</td>\n",
       "      <td>300</td>\n",
       "      <td>Game Start</td>\n",
       "      <td>c</td>\n",
       "      <td>NaN</td>\n",
       "      <td>NaN</td>\n",
       "      <td>NaN</td>\n",
       "    </tr>\n",
       "    <tr>\n",
       "      <th>P23</th>\n",
       "      <td>6.379876e+17</td>\n",
       "      <td>P23</td>\n",
       "      <td>tut</td>\n",
       "      <td>1</td>\n",
       "      <td>29</td>\n",
       "      <td>m</td>\n",
       "      <td>300.0</td>\n",
       "      <td>Game Start</td>\n",
       "      <td>NaN</td>\n",
       "      <td>NaN</td>\n",
       "      <td>NaN</td>\n",
       "      <td>NaN</td>\n",
       "    </tr>\n",
       "    <tr>\n",
       "      <th>P24</th>\n",
       "      <td>6.379885e+17</td>\n",
       "      <td>P24</td>\n",
       "      <td>tut</td>\n",
       "      <td>1</td>\n",
       "      <td>27</td>\n",
       "      <td>f</td>\n",
       "      <td>300.0</td>\n",
       "      <td>Game Start</td>\n",
       "      <td>c</td>\n",
       "      <td>NaN</td>\n",
       "      <td>NaN</td>\n",
       "      <td>NaN</td>\n",
       "    </tr>\n",
       "    <tr>\n",
       "      <th>P25</th>\n",
       "      <td>6.379890e+17</td>\n",
       "      <td>P25</td>\n",
       "      <td>tut</td>\n",
       "      <td>1</td>\n",
       "      <td>26</td>\n",
       "      <td>m</td>\n",
       "      <td>300.0</td>\n",
       "      <td>Game Start</td>\n",
       "      <td>c</td>\n",
       "      <td>NaN</td>\n",
       "      <td>NaN</td>\n",
       "      <td>NaN</td>\n",
       "    </tr>\n",
       "    <tr>\n",
       "      <th>P26</th>\n",
       "      <td>6.379894e+17</td>\n",
       "      <td>P26</td>\n",
       "      <td>tut</td>\n",
       "      <td>1</td>\n",
       "      <td>25</td>\n",
       "      <td>f</td>\n",
       "      <td>300.0</td>\n",
       "      <td>Game Start</td>\n",
       "      <td>c</td>\n",
       "      <td>NaN</td>\n",
       "      <td>NaN</td>\n",
       "      <td>NaN</td>\n",
       "    </tr>\n",
       "    <tr>\n",
       "      <th>P27</th>\n",
       "      <td>6.379927e+17</td>\n",
       "      <td>P27</td>\n",
       "      <td>tut</td>\n",
       "      <td>1</td>\n",
       "      <td>27</td>\n",
       "      <td>f</td>\n",
       "      <td>300.0</td>\n",
       "      <td>Game Start</td>\n",
       "      <td>c</td>\n",
       "      <td>NaN</td>\n",
       "      <td>NaN</td>\n",
       "      <td>NaN</td>\n",
       "    </tr>\n",
       "    <tr>\n",
       "      <th>P28</th>\n",
       "      <td>6.379928e+17</td>\n",
       "      <td>P28</td>\n",
       "      <td>tut</td>\n",
       "      <td>1</td>\n",
       "      <td>20</td>\n",
       "      <td>m</td>\n",
       "      <td>300.0</td>\n",
       "      <td>Game Start</td>\n",
       "      <td>c</td>\n",
       "      <td>NaN</td>\n",
       "      <td>NaN</td>\n",
       "      <td>NaN</td>\n",
       "    </tr>\n",
       "    <tr>\n",
       "      <th>P4</th>\n",
       "      <td>6.379570e+17</td>\n",
       "      <td>P4</td>\n",
       "      <td>tut</td>\n",
       "      <td>1</td>\n",
       "      <td>22</td>\n",
       "      <td>m</td>\n",
       "      <td>300.0</td>\n",
       "      <td>Game Start</td>\n",
       "      <td>NaN</td>\n",
       "      <td>NaN</td>\n",
       "      <td>NaN</td>\n",
       "      <td>NaN</td>\n",
       "    </tr>\n",
       "    <tr>\n",
       "      <th>P5</th>\n",
       "      <td>6.379575e+17</td>\n",
       "      <td>P5</td>\n",
       "      <td>tut</td>\n",
       "      <td>1</td>\n",
       "      <td>28</td>\n",
       "      <td>m</td>\n",
       "      <td>300.0</td>\n",
       "      <td>Game Start</td>\n",
       "      <td>NaN</td>\n",
       "      <td>NaN</td>\n",
       "      <td>NaN</td>\n",
       "      <td>NaN</td>\n",
       "    </tr>\n",
       "    <tr>\n",
       "      <th>P6</th>\n",
       "      <td>6.379582e+17</td>\n",
       "      <td>P6</td>\n",
       "      <td>s</td>\n",
       "      <td>tut</td>\n",
       "      <td>23</td>\n",
       "      <td>m</td>\n",
       "      <td>300.0</td>\n",
       "      <td>Game Start</td>\n",
       "      <td>NaN</td>\n",
       "      <td>NaN</td>\n",
       "      <td>NaN</td>\n",
       "      <td>NaN</td>\n",
       "    </tr>\n",
       "    <tr>\n",
       "      <th>P7</th>\n",
       "      <td>6.379583e+17</td>\n",
       "      <td>P7</td>\n",
       "      <td>s</td>\n",
       "      <td>tut</td>\n",
       "      <td>26</td>\n",
       "      <td>NaN</td>\n",
       "      <td>300.0</td>\n",
       "      <td>Game Start</td>\n",
       "      <td>NaN</td>\n",
       "      <td>NaN</td>\n",
       "      <td>NaN</td>\n",
       "      <td>NaN</td>\n",
       "    </tr>\n",
       "    <tr>\n",
       "      <th>P8</th>\n",
       "      <td>6.379590e+17</td>\n",
       "      <td>P8</td>\n",
       "      <td>tut</td>\n",
       "      <td>1</td>\n",
       "      <td>18</td>\n",
       "      <td>m</td>\n",
       "      <td>300.0</td>\n",
       "      <td>Game Start</td>\n",
       "      <td>NaN</td>\n",
       "      <td>NaN</td>\n",
       "      <td>NaN</td>\n",
       "      <td>NaN</td>\n",
       "    </tr>\n",
       "    <tr>\n",
       "      <th>P9</th>\n",
       "      <td>6.379590e+17</td>\n",
       "      <td>P9</td>\n",
       "      <td>tut</td>\n",
       "      <td>1</td>\n",
       "      <td>25</td>\n",
       "      <td>f</td>\n",
       "      <td>300.0</td>\n",
       "      <td>Game Start</td>\n",
       "      <td>NaN</td>\n",
       "      <td>NaN</td>\n",
       "      <td>NaN</td>\n",
       "      <td>NaN</td>\n",
       "    </tr>\n",
       "  </tbody>\n",
       "</table>\n",
       "</div>"
      ],
      "text/plain": [
       "                TimeStamp participant Condition Tiral Age Gender SessionTime  \\\n",
       "participant                                                                    \n",
       "P10          6.379590e+17         P10       tut     1  18      f       300.0   \n",
       "P11          6.379590e+17         P11       tut     1  22      m       300.0   \n",
       "P12          6.379591e+17         P12       tut     1  22      m       300.0   \n",
       "P13          6.379591e+17         P13       tut     1  32      m       300.0   \n",
       "P14          6.379591e+17         P14       tut     1  22      m       300.0   \n",
       "P16          6.379590e+17         P16       tut     1  18      m       300.0   \n",
       "P18          6.379807e+17         P18       tut     1  31      f       300.0   \n",
       "P19          6.379810e+17         P19       tut     1  30      f       300.0   \n",
       "P2           6.379626e+17          P2         s     1  19      m       300.0   \n",
       "P20          6.379807e+17         P20       tut     1  25      m       300.0   \n",
       "P21          6.379816e+17         P21       tut     1  25      m       300.0   \n",
       "P22          6.379824e+17         P22       tut     1  32      f         300   \n",
       "P23          6.379876e+17         P23       tut     1  29      m       300.0   \n",
       "P24          6.379885e+17         P24       tut     1  27      f       300.0   \n",
       "P25          6.379890e+17         P25       tut     1  26      m       300.0   \n",
       "P26          6.379894e+17         P26       tut     1  25      f       300.0   \n",
       "P27          6.379927e+17         P27       tut     1  27      f       300.0   \n",
       "P28          6.379928e+17         P28       tut     1  20      m       300.0   \n",
       "P4           6.379570e+17          P4       tut     1  22      m       300.0   \n",
       "P5           6.379575e+17          P5       tut     1  28      m       300.0   \n",
       "P6           6.379582e+17          P6         s   tut  23      m       300.0   \n",
       "P7           6.379583e+17          P7         s   tut  26    NaN       300.0   \n",
       "P8           6.379590e+17          P8       tut     1  18      m       300.0   \n",
       "P9           6.379590e+17          P9       tut     1  25      f       300.0   \n",
       "\n",
       "                  Event  xPos   yPos   zPos   Group  \n",
       "participant                                          \n",
       "P10          Game Start   NaN    NaN    NaN     NaN  \n",
       "P11          Game Start   NaN    NaN    NaN     NaN  \n",
       "P12          Game Start   NaN    NaN    NaN     NaN  \n",
       "P13          Game Start   NaN    NaN    NaN     NaN  \n",
       "P14          Game Start   NaN    NaN    NaN     NaN  \n",
       "P16          Game Start   NaN    NaN    NaN     NaN  \n",
       "P18          Game Start   NaN    NaN    NaN     NaN  \n",
       "P19          Game Start   NaN    NaN    NaN     NaN  \n",
       "P2           Game Start   NaN    NaN    NaN     NaN  \n",
       "P20          Game Start   NaN    NaN    NaN     NaN  \n",
       "P21          Game Start   NaN    NaN    NaN     NaN  \n",
       "P22          Game Start     c    NaN    NaN     NaN  \n",
       "P23          Game Start   NaN    NaN    NaN     NaN  \n",
       "P24          Game Start     c    NaN    NaN     NaN  \n",
       "P25          Game Start     c    NaN    NaN     NaN  \n",
       "P26          Game Start     c    NaN    NaN     NaN  \n",
       "P27          Game Start     c    NaN    NaN     NaN  \n",
       "P28          Game Start     c    NaN    NaN     NaN  \n",
       "P4           Game Start   NaN    NaN    NaN     NaN  \n",
       "P5           Game Start   NaN    NaN    NaN     NaN  \n",
       "P6           Game Start   NaN    NaN    NaN     NaN  \n",
       "P7           Game Start   NaN    NaN    NaN     NaN  \n",
       "P8           Game Start   NaN    NaN    NaN     NaN  \n",
       "P9           Game Start   NaN    NaN    NaN     NaN  "
      ]
     },
     "execution_count": 72,
     "metadata": {},
     "output_type": "execute_result"
    }
   ],
   "source": [
    "df_unique"
   ]
  },
  {
   "cell_type": "code",
   "execution_count": 73,
   "metadata": {},
   "outputs": [
    {
     "data": {
      "text/plain": [
       "m    15\n",
       "f     8\n",
       "Name: Gender, dtype: int64"
      ]
     },
     "execution_count": 73,
     "metadata": {},
     "output_type": "execute_result"
    }
   ],
   "source": [
    "df_unique.drop(\"P7\", inplace=True)\n",
    "\n",
    "df_unique.Gender.value_counts()"
   ]
  },
  {
   "cell_type": "code",
   "execution_count": 74,
   "metadata": {},
   "outputs": [
    {
     "data": {
      "text/html": [
       "<div>\n",
       "<style scoped>\n",
       "    .dataframe tbody tr th:only-of-type {\n",
       "        vertical-align: middle;\n",
       "    }\n",
       "\n",
       "    .dataframe tbody tr th {\n",
       "        vertical-align: top;\n",
       "    }\n",
       "\n",
       "    .dataframe thead th {\n",
       "        text-align: right;\n",
       "    }\n",
       "</style>\n",
       "<table border=\"1\" class=\"dataframe\">\n",
       "  <thead>\n",
       "    <tr style=\"text-align: right;\">\n",
       "      <th></th>\n",
       "      <th>TimeStamp</th>\n",
       "      <th>participant</th>\n",
       "      <th>Condition</th>\n",
       "      <th>Tiral</th>\n",
       "      <th>Age</th>\n",
       "      <th>Gender</th>\n",
       "      <th>SessionTime</th>\n",
       "      <th>Event</th>\n",
       "      <th>xPos</th>\n",
       "      <th>yPos</th>\n",
       "      <th>zPos</th>\n",
       "      <th>Group</th>\n",
       "    </tr>\n",
       "    <tr>\n",
       "      <th>participant</th>\n",
       "      <th></th>\n",
       "      <th></th>\n",
       "      <th></th>\n",
       "      <th></th>\n",
       "      <th></th>\n",
       "      <th></th>\n",
       "      <th></th>\n",
       "      <th></th>\n",
       "      <th></th>\n",
       "      <th></th>\n",
       "      <th></th>\n",
       "      <th></th>\n",
       "    </tr>\n",
       "  </thead>\n",
       "  <tbody>\n",
       "    <tr>\n",
       "      <th>P10</th>\n",
       "      <td>6.379590e+17</td>\n",
       "      <td>P10</td>\n",
       "      <td>tut</td>\n",
       "      <td>1</td>\n",
       "      <td>18</td>\n",
       "      <td>f</td>\n",
       "      <td>300.0</td>\n",
       "      <td>Game Start</td>\n",
       "      <td>NaN</td>\n",
       "      <td>NaN</td>\n",
       "      <td>NaN</td>\n",
       "      <td>NaN</td>\n",
       "    </tr>\n",
       "    <tr>\n",
       "      <th>P11</th>\n",
       "      <td>6.379590e+17</td>\n",
       "      <td>P11</td>\n",
       "      <td>tut</td>\n",
       "      <td>1</td>\n",
       "      <td>22</td>\n",
       "      <td>m</td>\n",
       "      <td>300.0</td>\n",
       "      <td>Game Start</td>\n",
       "      <td>NaN</td>\n",
       "      <td>NaN</td>\n",
       "      <td>NaN</td>\n",
       "      <td>NaN</td>\n",
       "    </tr>\n",
       "    <tr>\n",
       "      <th>P12</th>\n",
       "      <td>6.379591e+17</td>\n",
       "      <td>P12</td>\n",
       "      <td>tut</td>\n",
       "      <td>1</td>\n",
       "      <td>22</td>\n",
       "      <td>m</td>\n",
       "      <td>300.0</td>\n",
       "      <td>Game Start</td>\n",
       "      <td>NaN</td>\n",
       "      <td>NaN</td>\n",
       "      <td>NaN</td>\n",
       "      <td>NaN</td>\n",
       "    </tr>\n",
       "    <tr>\n",
       "      <th>P14</th>\n",
       "      <td>6.379591e+17</td>\n",
       "      <td>P14</td>\n",
       "      <td>tut</td>\n",
       "      <td>1</td>\n",
       "      <td>22</td>\n",
       "      <td>m</td>\n",
       "      <td>300.0</td>\n",
       "      <td>Game Start</td>\n",
       "      <td>NaN</td>\n",
       "      <td>NaN</td>\n",
       "      <td>NaN</td>\n",
       "      <td>NaN</td>\n",
       "    </tr>\n",
       "    <tr>\n",
       "      <th>P16</th>\n",
       "      <td>6.379590e+17</td>\n",
       "      <td>P16</td>\n",
       "      <td>tut</td>\n",
       "      <td>1</td>\n",
       "      <td>18</td>\n",
       "      <td>m</td>\n",
       "      <td>300.0</td>\n",
       "      <td>Game Start</td>\n",
       "      <td>NaN</td>\n",
       "      <td>NaN</td>\n",
       "      <td>NaN</td>\n",
       "      <td>NaN</td>\n",
       "    </tr>\n",
       "    <tr>\n",
       "      <th>P2</th>\n",
       "      <td>6.379626e+17</td>\n",
       "      <td>P2</td>\n",
       "      <td>s</td>\n",
       "      <td>1</td>\n",
       "      <td>19</td>\n",
       "      <td>m</td>\n",
       "      <td>300.0</td>\n",
       "      <td>Game Start</td>\n",
       "      <td>NaN</td>\n",
       "      <td>NaN</td>\n",
       "      <td>NaN</td>\n",
       "      <td>NaN</td>\n",
       "    </tr>\n",
       "    <tr>\n",
       "      <th>P4</th>\n",
       "      <td>6.379570e+17</td>\n",
       "      <td>P4</td>\n",
       "      <td>tut</td>\n",
       "      <td>1</td>\n",
       "      <td>22</td>\n",
       "      <td>m</td>\n",
       "      <td>300.0</td>\n",
       "      <td>Game Start</td>\n",
       "      <td>NaN</td>\n",
       "      <td>NaN</td>\n",
       "      <td>NaN</td>\n",
       "      <td>NaN</td>\n",
       "    </tr>\n",
       "    <tr>\n",
       "      <th>P6</th>\n",
       "      <td>6.379582e+17</td>\n",
       "      <td>P6</td>\n",
       "      <td>s</td>\n",
       "      <td>tut</td>\n",
       "      <td>23</td>\n",
       "      <td>m</td>\n",
       "      <td>300.0</td>\n",
       "      <td>Game Start</td>\n",
       "      <td>NaN</td>\n",
       "      <td>NaN</td>\n",
       "      <td>NaN</td>\n",
       "      <td>NaN</td>\n",
       "    </tr>\n",
       "    <tr>\n",
       "      <th>P8</th>\n",
       "      <td>6.379590e+17</td>\n",
       "      <td>P8</td>\n",
       "      <td>tut</td>\n",
       "      <td>1</td>\n",
       "      <td>18</td>\n",
       "      <td>m</td>\n",
       "      <td>300.0</td>\n",
       "      <td>Game Start</td>\n",
       "      <td>NaN</td>\n",
       "      <td>NaN</td>\n",
       "      <td>NaN</td>\n",
       "      <td>NaN</td>\n",
       "    </tr>\n",
       "  </tbody>\n",
       "</table>\n",
       "</div>"
      ],
      "text/plain": [
       "                TimeStamp participant Condition Tiral Age Gender SessionTime  \\\n",
       "participant                                                                    \n",
       "P10          6.379590e+17         P10       tut     1  18      f       300.0   \n",
       "P11          6.379590e+17         P11       tut     1  22      m       300.0   \n",
       "P12          6.379591e+17         P12       tut     1  22      m       300.0   \n",
       "P14          6.379591e+17         P14       tut     1  22      m       300.0   \n",
       "P16          6.379590e+17         P16       tut     1  18      m       300.0   \n",
       "P2           6.379626e+17          P2         s     1  19      m       300.0   \n",
       "P4           6.379570e+17          P4       tut     1  22      m       300.0   \n",
       "P6           6.379582e+17          P6         s   tut  23      m       300.0   \n",
       "P8           6.379590e+17          P8       tut     1  18      m       300.0   \n",
       "\n",
       "                  Event  xPos   yPos   zPos   Group  \n",
       "participant                                          \n",
       "P10          Game Start   NaN    NaN    NaN     NaN  \n",
       "P11          Game Start   NaN    NaN    NaN     NaN  \n",
       "P12          Game Start   NaN    NaN    NaN     NaN  \n",
       "P14          Game Start   NaN    NaN    NaN     NaN  \n",
       "P16          Game Start   NaN    NaN    NaN     NaN  \n",
       "P2           Game Start   NaN    NaN    NaN     NaN  \n",
       "P4           Game Start   NaN    NaN    NaN     NaN  \n",
       "P6           Game Start   NaN    NaN    NaN     NaN  \n",
       "P8           Game Start   NaN    NaN    NaN     NaN  "
      ]
     },
     "execution_count": 74,
     "metadata": {},
     "output_type": "execute_result"
    }
   ],
   "source": [
    "df_unique[df_unique.participant.isin(asd_list)]"
   ]
  },
  {
   "cell_type": "code",
   "execution_count": 75,
   "metadata": {},
   "outputs": [
    {
     "data": {
      "text/html": [
       "<div>\n",
       "<style scoped>\n",
       "    .dataframe tbody tr th:only-of-type {\n",
       "        vertical-align: middle;\n",
       "    }\n",
       "\n",
       "    .dataframe tbody tr th {\n",
       "        vertical-align: top;\n",
       "    }\n",
       "\n",
       "    .dataframe thead th {\n",
       "        text-align: right;\n",
       "    }\n",
       "</style>\n",
       "<table border=\"1\" class=\"dataframe\">\n",
       "  <thead>\n",
       "    <tr style=\"text-align: right;\">\n",
       "      <th></th>\n",
       "      <th>TimeStamp</th>\n",
       "      <th>participant</th>\n",
       "      <th>Condition</th>\n",
       "      <th>Tiral</th>\n",
       "      <th>Age</th>\n",
       "      <th>Gender</th>\n",
       "      <th>SessionTime</th>\n",
       "      <th>Event</th>\n",
       "      <th>xPos</th>\n",
       "      <th>yPos</th>\n",
       "      <th>zPos</th>\n",
       "      <th>Group</th>\n",
       "    </tr>\n",
       "    <tr>\n",
       "      <th>participant</th>\n",
       "      <th></th>\n",
       "      <th></th>\n",
       "      <th></th>\n",
       "      <th></th>\n",
       "      <th></th>\n",
       "      <th></th>\n",
       "      <th></th>\n",
       "      <th></th>\n",
       "      <th></th>\n",
       "      <th></th>\n",
       "      <th></th>\n",
       "      <th></th>\n",
       "    </tr>\n",
       "  </thead>\n",
       "  <tbody>\n",
       "    <tr>\n",
       "      <th>P13</th>\n",
       "      <td>6.379591e+17</td>\n",
       "      <td>P13</td>\n",
       "      <td>tut</td>\n",
       "      <td>1</td>\n",
       "      <td>32</td>\n",
       "      <td>m</td>\n",
       "      <td>300.0</td>\n",
       "      <td>Game Start</td>\n",
       "      <td>NaN</td>\n",
       "      <td>NaN</td>\n",
       "      <td>NaN</td>\n",
       "      <td>NaN</td>\n",
       "    </tr>\n",
       "    <tr>\n",
       "      <th>P18</th>\n",
       "      <td>6.379807e+17</td>\n",
       "      <td>P18</td>\n",
       "      <td>tut</td>\n",
       "      <td>1</td>\n",
       "      <td>31</td>\n",
       "      <td>f</td>\n",
       "      <td>300.0</td>\n",
       "      <td>Game Start</td>\n",
       "      <td>NaN</td>\n",
       "      <td>NaN</td>\n",
       "      <td>NaN</td>\n",
       "      <td>NaN</td>\n",
       "    </tr>\n",
       "    <tr>\n",
       "      <th>P19</th>\n",
       "      <td>6.379810e+17</td>\n",
       "      <td>P19</td>\n",
       "      <td>tut</td>\n",
       "      <td>1</td>\n",
       "      <td>30</td>\n",
       "      <td>f</td>\n",
       "      <td>300.0</td>\n",
       "      <td>Game Start</td>\n",
       "      <td>NaN</td>\n",
       "      <td>NaN</td>\n",
       "      <td>NaN</td>\n",
       "      <td>NaN</td>\n",
       "    </tr>\n",
       "    <tr>\n",
       "      <th>P20</th>\n",
       "      <td>6.379807e+17</td>\n",
       "      <td>P20</td>\n",
       "      <td>tut</td>\n",
       "      <td>1</td>\n",
       "      <td>25</td>\n",
       "      <td>m</td>\n",
       "      <td>300.0</td>\n",
       "      <td>Game Start</td>\n",
       "      <td>NaN</td>\n",
       "      <td>NaN</td>\n",
       "      <td>NaN</td>\n",
       "      <td>NaN</td>\n",
       "    </tr>\n",
       "    <tr>\n",
       "      <th>P21</th>\n",
       "      <td>6.379816e+17</td>\n",
       "      <td>P21</td>\n",
       "      <td>tut</td>\n",
       "      <td>1</td>\n",
       "      <td>25</td>\n",
       "      <td>m</td>\n",
       "      <td>300.0</td>\n",
       "      <td>Game Start</td>\n",
       "      <td>NaN</td>\n",
       "      <td>NaN</td>\n",
       "      <td>NaN</td>\n",
       "      <td>NaN</td>\n",
       "    </tr>\n",
       "    <tr>\n",
       "      <th>P22</th>\n",
       "      <td>6.379824e+17</td>\n",
       "      <td>P22</td>\n",
       "      <td>tut</td>\n",
       "      <td>1</td>\n",
       "      <td>32</td>\n",
       "      <td>f</td>\n",
       "      <td>300</td>\n",
       "      <td>Game Start</td>\n",
       "      <td>c</td>\n",
       "      <td>NaN</td>\n",
       "      <td>NaN</td>\n",
       "      <td>NaN</td>\n",
       "    </tr>\n",
       "    <tr>\n",
       "      <th>P23</th>\n",
       "      <td>6.379876e+17</td>\n",
       "      <td>P23</td>\n",
       "      <td>tut</td>\n",
       "      <td>1</td>\n",
       "      <td>29</td>\n",
       "      <td>m</td>\n",
       "      <td>300.0</td>\n",
       "      <td>Game Start</td>\n",
       "      <td>NaN</td>\n",
       "      <td>NaN</td>\n",
       "      <td>NaN</td>\n",
       "      <td>NaN</td>\n",
       "    </tr>\n",
       "    <tr>\n",
       "      <th>P24</th>\n",
       "      <td>6.379885e+17</td>\n",
       "      <td>P24</td>\n",
       "      <td>tut</td>\n",
       "      <td>1</td>\n",
       "      <td>27</td>\n",
       "      <td>f</td>\n",
       "      <td>300.0</td>\n",
       "      <td>Game Start</td>\n",
       "      <td>c</td>\n",
       "      <td>NaN</td>\n",
       "      <td>NaN</td>\n",
       "      <td>NaN</td>\n",
       "    </tr>\n",
       "    <tr>\n",
       "      <th>P25</th>\n",
       "      <td>6.379890e+17</td>\n",
       "      <td>P25</td>\n",
       "      <td>tut</td>\n",
       "      <td>1</td>\n",
       "      <td>26</td>\n",
       "      <td>m</td>\n",
       "      <td>300.0</td>\n",
       "      <td>Game Start</td>\n",
       "      <td>c</td>\n",
       "      <td>NaN</td>\n",
       "      <td>NaN</td>\n",
       "      <td>NaN</td>\n",
       "    </tr>\n",
       "    <tr>\n",
       "      <th>P26</th>\n",
       "      <td>6.379894e+17</td>\n",
       "      <td>P26</td>\n",
       "      <td>tut</td>\n",
       "      <td>1</td>\n",
       "      <td>25</td>\n",
       "      <td>f</td>\n",
       "      <td>300.0</td>\n",
       "      <td>Game Start</td>\n",
       "      <td>c</td>\n",
       "      <td>NaN</td>\n",
       "      <td>NaN</td>\n",
       "      <td>NaN</td>\n",
       "    </tr>\n",
       "    <tr>\n",
       "      <th>P27</th>\n",
       "      <td>6.379927e+17</td>\n",
       "      <td>P27</td>\n",
       "      <td>tut</td>\n",
       "      <td>1</td>\n",
       "      <td>27</td>\n",
       "      <td>f</td>\n",
       "      <td>300.0</td>\n",
       "      <td>Game Start</td>\n",
       "      <td>c</td>\n",
       "      <td>NaN</td>\n",
       "      <td>NaN</td>\n",
       "      <td>NaN</td>\n",
       "    </tr>\n",
       "    <tr>\n",
       "      <th>P28</th>\n",
       "      <td>6.379928e+17</td>\n",
       "      <td>P28</td>\n",
       "      <td>tut</td>\n",
       "      <td>1</td>\n",
       "      <td>20</td>\n",
       "      <td>m</td>\n",
       "      <td>300.0</td>\n",
       "      <td>Game Start</td>\n",
       "      <td>c</td>\n",
       "      <td>NaN</td>\n",
       "      <td>NaN</td>\n",
       "      <td>NaN</td>\n",
       "    </tr>\n",
       "    <tr>\n",
       "      <th>P5</th>\n",
       "      <td>6.379575e+17</td>\n",
       "      <td>P5</td>\n",
       "      <td>tut</td>\n",
       "      <td>1</td>\n",
       "      <td>28</td>\n",
       "      <td>m</td>\n",
       "      <td>300.0</td>\n",
       "      <td>Game Start</td>\n",
       "      <td>NaN</td>\n",
       "      <td>NaN</td>\n",
       "      <td>NaN</td>\n",
       "      <td>NaN</td>\n",
       "    </tr>\n",
       "    <tr>\n",
       "      <th>P9</th>\n",
       "      <td>6.379590e+17</td>\n",
       "      <td>P9</td>\n",
       "      <td>tut</td>\n",
       "      <td>1</td>\n",
       "      <td>25</td>\n",
       "      <td>f</td>\n",
       "      <td>300.0</td>\n",
       "      <td>Game Start</td>\n",
       "      <td>NaN</td>\n",
       "      <td>NaN</td>\n",
       "      <td>NaN</td>\n",
       "      <td>NaN</td>\n",
       "    </tr>\n",
       "  </tbody>\n",
       "</table>\n",
       "</div>"
      ],
      "text/plain": [
       "                TimeStamp participant Condition Tiral Age Gender SessionTime  \\\n",
       "participant                                                                    \n",
       "P13          6.379591e+17         P13       tut     1  32      m       300.0   \n",
       "P18          6.379807e+17         P18       tut     1  31      f       300.0   \n",
       "P19          6.379810e+17         P19       tut     1  30      f       300.0   \n",
       "P20          6.379807e+17         P20       tut     1  25      m       300.0   \n",
       "P21          6.379816e+17         P21       tut     1  25      m       300.0   \n",
       "P22          6.379824e+17         P22       tut     1  32      f         300   \n",
       "P23          6.379876e+17         P23       tut     1  29      m       300.0   \n",
       "P24          6.379885e+17         P24       tut     1  27      f       300.0   \n",
       "P25          6.379890e+17         P25       tut     1  26      m       300.0   \n",
       "P26          6.379894e+17         P26       tut     1  25      f       300.0   \n",
       "P27          6.379927e+17         P27       tut     1  27      f       300.0   \n",
       "P28          6.379928e+17         P28       tut     1  20      m       300.0   \n",
       "P5           6.379575e+17          P5       tut     1  28      m       300.0   \n",
       "P9           6.379590e+17          P9       tut     1  25      f       300.0   \n",
       "\n",
       "                  Event  xPos   yPos   zPos   Group  \n",
       "participant                                          \n",
       "P13          Game Start   NaN    NaN    NaN     NaN  \n",
       "P18          Game Start   NaN    NaN    NaN     NaN  \n",
       "P19          Game Start   NaN    NaN    NaN     NaN  \n",
       "P20          Game Start   NaN    NaN    NaN     NaN  \n",
       "P21          Game Start   NaN    NaN    NaN     NaN  \n",
       "P22          Game Start     c    NaN    NaN     NaN  \n",
       "P23          Game Start   NaN    NaN    NaN     NaN  \n",
       "P24          Game Start     c    NaN    NaN     NaN  \n",
       "P25          Game Start     c    NaN    NaN     NaN  \n",
       "P26          Game Start     c    NaN    NaN     NaN  \n",
       "P27          Game Start     c    NaN    NaN     NaN  \n",
       "P28          Game Start     c    NaN    NaN     NaN  \n",
       "P5           Game Start   NaN    NaN    NaN     NaN  \n",
       "P9           Game Start   NaN    NaN    NaN     NaN  "
      ]
     },
     "execution_count": 75,
     "metadata": {},
     "output_type": "execute_result"
    }
   ],
   "source": [
    "df_unique[~df_unique.participant.isin(asd_list)]"
   ]
  },
  {
   "cell_type": "code",
   "execution_count": 58,
   "metadata": {},
   "outputs": [
    {
     "data": {
      "text/html": [
       "<div>\n",
       "<style scoped>\n",
       "    .dataframe tbody tr th:only-of-type {\n",
       "        vertical-align: middle;\n",
       "    }\n",
       "\n",
       "    .dataframe tbody tr th {\n",
       "        vertical-align: top;\n",
       "    }\n",
       "\n",
       "    .dataframe thead th {\n",
       "        text-align: right;\n",
       "    }\n",
       "</style>\n",
       "<table border=\"1\" class=\"dataframe\">\n",
       "  <thead>\n",
       "    <tr style=\"text-align: right;\">\n",
       "      <th></th>\n",
       "      <th>TimeStamp</th>\n",
       "      <th>participant</th>\n",
       "      <th>Condition</th>\n",
       "      <th>Tiral</th>\n",
       "      <th>Age</th>\n",
       "      <th>Gender</th>\n",
       "      <th>SessionTime</th>\n",
       "      <th>Event</th>\n",
       "      <th>xPos</th>\n",
       "      <th>yPos</th>\n",
       "      <th>zPos</th>\n",
       "      <th>Group</th>\n",
       "    </tr>\n",
       "    <tr>\n",
       "      <th>participant</th>\n",
       "      <th></th>\n",
       "      <th></th>\n",
       "      <th></th>\n",
       "      <th></th>\n",
       "      <th></th>\n",
       "      <th></th>\n",
       "      <th></th>\n",
       "      <th></th>\n",
       "      <th></th>\n",
       "      <th></th>\n",
       "      <th></th>\n",
       "      <th></th>\n",
       "    </tr>\n",
       "  </thead>\n",
       "  <tbody>\n",
       "    <tr>\n",
       "      <th>P10</th>\n",
       "      <td>6.379590e+17</td>\n",
       "      <td>P10</td>\n",
       "      <td>tut</td>\n",
       "      <td>1</td>\n",
       "      <td>18</td>\n",
       "      <td>f</td>\n",
       "      <td>300.0</td>\n",
       "      <td>Game Start</td>\n",
       "      <td>NaN</td>\n",
       "      <td>NaN</td>\n",
       "      <td>NaN</td>\n",
       "      <td>NaN</td>\n",
       "    </tr>\n",
       "    <tr>\n",
       "      <th>P11</th>\n",
       "      <td>6.379590e+17</td>\n",
       "      <td>P11</td>\n",
       "      <td>tut</td>\n",
       "      <td>1</td>\n",
       "      <td>22</td>\n",
       "      <td>m</td>\n",
       "      <td>300.0</td>\n",
       "      <td>Game Start</td>\n",
       "      <td>NaN</td>\n",
       "      <td>NaN</td>\n",
       "      <td>NaN</td>\n",
       "      <td>NaN</td>\n",
       "    </tr>\n",
       "    <tr>\n",
       "      <th>P12</th>\n",
       "      <td>6.379591e+17</td>\n",
       "      <td>P12</td>\n",
       "      <td>tut</td>\n",
       "      <td>1</td>\n",
       "      <td>22</td>\n",
       "      <td>m</td>\n",
       "      <td>300.0</td>\n",
       "      <td>Game Start</td>\n",
       "      <td>NaN</td>\n",
       "      <td>NaN</td>\n",
       "      <td>NaN</td>\n",
       "      <td>NaN</td>\n",
       "    </tr>\n",
       "    <tr>\n",
       "      <th>P14</th>\n",
       "      <td>6.379591e+17</td>\n",
       "      <td>P14</td>\n",
       "      <td>tut</td>\n",
       "      <td>1</td>\n",
       "      <td>22</td>\n",
       "      <td>m</td>\n",
       "      <td>300.0</td>\n",
       "      <td>Game Start</td>\n",
       "      <td>NaN</td>\n",
       "      <td>NaN</td>\n",
       "      <td>NaN</td>\n",
       "      <td>NaN</td>\n",
       "    </tr>\n",
       "    <tr>\n",
       "      <th>P16</th>\n",
       "      <td>6.379590e+17</td>\n",
       "      <td>P16</td>\n",
       "      <td>tut</td>\n",
       "      <td>1</td>\n",
       "      <td>18</td>\n",
       "      <td>m</td>\n",
       "      <td>300.0</td>\n",
       "      <td>Game Start</td>\n",
       "      <td>NaN</td>\n",
       "      <td>NaN</td>\n",
       "      <td>NaN</td>\n",
       "      <td>NaN</td>\n",
       "    </tr>\n",
       "    <tr>\n",
       "      <th>P2</th>\n",
       "      <td>6.379626e+17</td>\n",
       "      <td>P2</td>\n",
       "      <td>s</td>\n",
       "      <td>1</td>\n",
       "      <td>19</td>\n",
       "      <td>m</td>\n",
       "      <td>300.0</td>\n",
       "      <td>Game Start</td>\n",
       "      <td>NaN</td>\n",
       "      <td>NaN</td>\n",
       "      <td>NaN</td>\n",
       "      <td>NaN</td>\n",
       "    </tr>\n",
       "    <tr>\n",
       "      <th>P20</th>\n",
       "      <td>6.379807e+17</td>\n",
       "      <td>P20</td>\n",
       "      <td>tut</td>\n",
       "      <td>1</td>\n",
       "      <td>25</td>\n",
       "      <td>m</td>\n",
       "      <td>300.0</td>\n",
       "      <td>Game Start</td>\n",
       "      <td>NaN</td>\n",
       "      <td>NaN</td>\n",
       "      <td>NaN</td>\n",
       "      <td>NaN</td>\n",
       "    </tr>\n",
       "    <tr>\n",
       "      <th>P21</th>\n",
       "      <td>6.379816e+17</td>\n",
       "      <td>P21</td>\n",
       "      <td>tut</td>\n",
       "      <td>1</td>\n",
       "      <td>25</td>\n",
       "      <td>m</td>\n",
       "      <td>300.0</td>\n",
       "      <td>Game Start</td>\n",
       "      <td>NaN</td>\n",
       "      <td>NaN</td>\n",
       "      <td>NaN</td>\n",
       "      <td>NaN</td>\n",
       "    </tr>\n",
       "    <tr>\n",
       "      <th>P25</th>\n",
       "      <td>6.379890e+17</td>\n",
       "      <td>P25</td>\n",
       "      <td>tut</td>\n",
       "      <td>1</td>\n",
       "      <td>26</td>\n",
       "      <td>m</td>\n",
       "      <td>300.0</td>\n",
       "      <td>Game Start</td>\n",
       "      <td>c</td>\n",
       "      <td>NaN</td>\n",
       "      <td>NaN</td>\n",
       "      <td>NaN</td>\n",
       "    </tr>\n",
       "    <tr>\n",
       "      <th>P26</th>\n",
       "      <td>6.379894e+17</td>\n",
       "      <td>P26</td>\n",
       "      <td>tut</td>\n",
       "      <td>1</td>\n",
       "      <td>25</td>\n",
       "      <td>f</td>\n",
       "      <td>300.0</td>\n",
       "      <td>Game Start</td>\n",
       "      <td>c</td>\n",
       "      <td>NaN</td>\n",
       "      <td>NaN</td>\n",
       "      <td>NaN</td>\n",
       "    </tr>\n",
       "    <tr>\n",
       "      <th>P4</th>\n",
       "      <td>6.379570e+17</td>\n",
       "      <td>P4</td>\n",
       "      <td>tut</td>\n",
       "      <td>1</td>\n",
       "      <td>22</td>\n",
       "      <td>m</td>\n",
       "      <td>300.0</td>\n",
       "      <td>Game Start</td>\n",
       "      <td>NaN</td>\n",
       "      <td>NaN</td>\n",
       "      <td>NaN</td>\n",
       "      <td>NaN</td>\n",
       "    </tr>\n",
       "    <tr>\n",
       "      <th>P6</th>\n",
       "      <td>6.379582e+17</td>\n",
       "      <td>P6</td>\n",
       "      <td>s</td>\n",
       "      <td>tut</td>\n",
       "      <td>23</td>\n",
       "      <td>m</td>\n",
       "      <td>300.0</td>\n",
       "      <td>Game Start</td>\n",
       "      <td>NaN</td>\n",
       "      <td>NaN</td>\n",
       "      <td>NaN</td>\n",
       "      <td>NaN</td>\n",
       "    </tr>\n",
       "    <tr>\n",
       "      <th>P8</th>\n",
       "      <td>6.379590e+17</td>\n",
       "      <td>P8</td>\n",
       "      <td>tut</td>\n",
       "      <td>1</td>\n",
       "      <td>18</td>\n",
       "      <td>m</td>\n",
       "      <td>300.0</td>\n",
       "      <td>Game Start</td>\n",
       "      <td>NaN</td>\n",
       "      <td>NaN</td>\n",
       "      <td>NaN</td>\n",
       "      <td>NaN</td>\n",
       "    </tr>\n",
       "    <tr>\n",
       "      <th>P9</th>\n",
       "      <td>6.379590e+17</td>\n",
       "      <td>P9</td>\n",
       "      <td>tut</td>\n",
       "      <td>1</td>\n",
       "      <td>25</td>\n",
       "      <td>f</td>\n",
       "      <td>300.0</td>\n",
       "      <td>Game Start</td>\n",
       "      <td>NaN</td>\n",
       "      <td>NaN</td>\n",
       "      <td>NaN</td>\n",
       "      <td>NaN</td>\n",
       "    </tr>\n",
       "  </tbody>\n",
       "</table>\n",
       "</div>"
      ],
      "text/plain": [
       "                TimeStamp participant Condition Tiral Age Gender SessionTime  \\\n",
       "participant                                                                    \n",
       "P10          6.379590e+17         P10       tut     1  18      f       300.0   \n",
       "P11          6.379590e+17         P11       tut     1  22      m       300.0   \n",
       "P12          6.379591e+17         P12       tut     1  22      m       300.0   \n",
       "P14          6.379591e+17         P14       tut     1  22      m       300.0   \n",
       "P16          6.379590e+17         P16       tut     1  18      m       300.0   \n",
       "P2           6.379626e+17          P2         s     1  19      m       300.0   \n",
       "P20          6.379807e+17         P20       tut     1  25      m       300.0   \n",
       "P21          6.379816e+17         P21       tut     1  25      m       300.0   \n",
       "P25          6.379890e+17         P25       tut     1  26      m       300.0   \n",
       "P26          6.379894e+17         P26       tut     1  25      f       300.0   \n",
       "P4           6.379570e+17          P4       tut     1  22      m       300.0   \n",
       "P6           6.379582e+17          P6         s   tut  23      m       300.0   \n",
       "P8           6.379590e+17          P8       tut     1  18      m       300.0   \n",
       "P9           6.379590e+17          P9       tut     1  25      f       300.0   \n",
       "\n",
       "                  Event  xPos   yPos   zPos   Group  \n",
       "participant                                          \n",
       "P10          Game Start   NaN    NaN    NaN     NaN  \n",
       "P11          Game Start   NaN    NaN    NaN     NaN  \n",
       "P12          Game Start   NaN    NaN    NaN     NaN  \n",
       "P14          Game Start   NaN    NaN    NaN     NaN  \n",
       "P16          Game Start   NaN    NaN    NaN     NaN  \n",
       "P2           Game Start   NaN    NaN    NaN     NaN  \n",
       "P20          Game Start   NaN    NaN    NaN     NaN  \n",
       "P21          Game Start   NaN    NaN    NaN     NaN  \n",
       "P25          Game Start     c    NaN    NaN     NaN  \n",
       "P26          Game Start     c    NaN    NaN     NaN  \n",
       "P4           Game Start   NaN    NaN    NaN     NaN  \n",
       "P6           Game Start   NaN    NaN    NaN     NaN  \n",
       "P8           Game Start   NaN    NaN    NaN     NaN  \n",
       "P9           Game Start   NaN    NaN    NaN     NaN  "
      ]
     },
     "execution_count": 58,
     "metadata": {},
     "output_type": "execute_result"
    }
   ],
   "source": [
    "df_unique[df_unique.Age.astype('int32') <= 26]"
   ]
  },
  {
   "cell_type": "code",
   "execution_count": 82,
   "metadata": {},
   "outputs": [
    {
     "data": {
      "text/plain": [
       "participant\n",
       "P10    P10\n",
       "P11    P11\n",
       "P12    P12\n",
       "P14    P14\n",
       "P16    P16\n",
       "P2      P2\n",
       "P20    P20\n",
       "P21    P21\n",
       "P25    P25\n",
       "P26    P26\n",
       "P28    P28\n",
       "P4      P4\n",
       "P6      P6\n",
       "P8      P8\n",
       "P9      P9\n",
       "Name: participant, dtype: object"
      ]
     },
     "execution_count": 82,
     "metadata": {},
     "output_type": "execute_result"
    }
   ],
   "source": [
    "df_unique.loc[df_unique.Age.astype('int32') <= 26, \"participant\"]"
   ]
  },
  {
   "cell_type": "markdown",
   "metadata": {},
   "source": [
    "### 2x2 Anova - All participants"
   ]
  },
  {
   "cell_type": "code",
   "execution_count": 16,
   "metadata": {},
   "outputs": [
    {
     "data": {
      "text/html": [
       "<div>\n",
       "<style scoped>\n",
       "    .dataframe tbody tr th:only-of-type {\n",
       "        vertical-align: middle;\n",
       "    }\n",
       "\n",
       "    .dataframe tbody tr th {\n",
       "        vertical-align: top;\n",
       "    }\n",
       "\n",
       "    .dataframe thead th {\n",
       "        text-align: right;\n",
       "    }\n",
       "</style>\n",
       "<table border=\"1\" class=\"dataframe\">\n",
       "  <thead>\n",
       "    <tr style=\"text-align: right;\">\n",
       "      <th></th>\n",
       "      <th>Event</th>\n",
       "      <th>Group</th>\n",
       "      <th>Time</th>\n",
       "    </tr>\n",
       "  </thead>\n",
       "  <tbody>\n",
       "    <tr>\n",
       "      <th>0</th>\n",
       "      <td>PAC-1</td>\n",
       "      <td>Neurotypical</td>\n",
       "      <td>2663.1680</td>\n",
       "    </tr>\n",
       "    <tr>\n",
       "      <th>1</th>\n",
       "      <td>PAC-1</td>\n",
       "      <td>Neurotypical</td>\n",
       "      <td>359.6288</td>\n",
       "    </tr>\n",
       "    <tr>\n",
       "      <th>2</th>\n",
       "      <td>PAC-1</td>\n",
       "      <td>Neurotypical</td>\n",
       "      <td>172.5312</td>\n",
       "    </tr>\n",
       "    <tr>\n",
       "      <th>3</th>\n",
       "      <td>PAC-1</td>\n",
       "      <td>Neurotypical</td>\n",
       "      <td>389.9520</td>\n",
       "    </tr>\n",
       "    <tr>\n",
       "      <th>4</th>\n",
       "      <td>PAC-1</td>\n",
       "      <td>Neurotypical</td>\n",
       "      <td>217.2800</td>\n",
       "    </tr>\n",
       "    <tr>\n",
       "      <th>...</th>\n",
       "      <td>...</td>\n",
       "      <td>...</td>\n",
       "      <td>...</td>\n",
       "    </tr>\n",
       "    <tr>\n",
       "      <th>3476</th>\n",
       "      <td>PAC-2 Co-op</td>\n",
       "      <td>ASD</td>\n",
       "      <td>1053.2352</td>\n",
       "    </tr>\n",
       "    <tr>\n",
       "      <th>3477</th>\n",
       "      <td>PAC-2 Co-op</td>\n",
       "      <td>ASD</td>\n",
       "      <td>995.2256</td>\n",
       "    </tr>\n",
       "    <tr>\n",
       "      <th>3478</th>\n",
       "      <td>PAC-2 Co-op</td>\n",
       "      <td>ASD</td>\n",
       "      <td>459.1104</td>\n",
       "    </tr>\n",
       "    <tr>\n",
       "      <th>3479</th>\n",
       "      <td>PAC-2 Co-op</td>\n",
       "      <td>ASD</td>\n",
       "      <td>520.9472</td>\n",
       "    </tr>\n",
       "    <tr>\n",
       "      <th>3480</th>\n",
       "      <td>PAC-2 Co-op</td>\n",
       "      <td>ASD</td>\n",
       "      <td>760.1792</td>\n",
       "    </tr>\n",
       "  </tbody>\n",
       "</table>\n",
       "<p>3481 rows × 3 columns</p>\n",
       "</div>"
      ],
      "text/plain": [
       "            Event         Group       Time\n",
       "0           PAC-1  Neurotypical  2663.1680\n",
       "1           PAC-1  Neurotypical   359.6288\n",
       "2           PAC-1  Neurotypical   172.5312\n",
       "3           PAC-1  Neurotypical   389.9520\n",
       "4           PAC-1  Neurotypical   217.2800\n",
       "...           ...           ...        ...\n",
       "3476  PAC-2 Co-op           ASD  1053.2352\n",
       "3477  PAC-2 Co-op           ASD   995.2256\n",
       "3478  PAC-2 Co-op           ASD   459.1104\n",
       "3479  PAC-2 Co-op           ASD   520.9472\n",
       "3480  PAC-2 Co-op           ASD   760.1792\n",
       "\n",
       "[3481 rows x 3 columns]"
      ]
     },
     "execution_count": 16,
     "metadata": {},
     "output_type": "execute_result"
    }
   ],
   "source": [
    "# Dataframe for ANOVA analysis\n",
    "cols = [\"Event\", \"Group\", \"Time\"]\n",
    "unique_event_list = [\"PAC-1\", \"PAC-2\", \"PAC-1 Co-op\", \"PAC-2 Co-op\"]\n",
    "unique_group_list = [\"Neurotypical\", \"ASD\"]\n",
    "\n",
    "event_list = list()\n",
    "group_list = list()\n",
    "times_list = list()\n",
    "\n",
    "for i, l in enumerate([pac_nt_vals, pac_asd_vals]):\n",
    "    summer = 0\n",
    "    for j, x in enumerate(l):\n",
    "        event_list.extend([unique_event_list[j]] * len(x))\n",
    "        summer += len(x)\n",
    "        times_list.extend(x)\n",
    "    group_list.extend([unique_group_list[i]] * summer)\n",
    "\n",
    "df_res_all = pd.DataFrame(dict(zip(cols, [event_list, group_list, times_list])))\n",
    "df_res_all\n"
   ]
  },
  {
   "cell_type": "code",
   "execution_count": 18,
   "metadata": {},
   "outputs": [
    {
     "data": {
      "text/html": [
       "<div>\n",
       "<style scoped>\n",
       "    .dataframe tbody tr th:only-of-type {\n",
       "        vertical-align: middle;\n",
       "    }\n",
       "\n",
       "    .dataframe tbody tr th {\n",
       "        vertical-align: top;\n",
       "    }\n",
       "\n",
       "    .dataframe thead th {\n",
       "        text-align: right;\n",
       "    }\n",
       "</style>\n",
       "<table border=\"1\" class=\"dataframe\">\n",
       "  <thead>\n",
       "    <tr style=\"text-align: right;\">\n",
       "      <th></th>\n",
       "      <th>sum_sq</th>\n",
       "      <th>df</th>\n",
       "      <th>F</th>\n",
       "      <th>PR(&gt;F)</th>\n",
       "    </tr>\n",
       "  </thead>\n",
       "  <tbody>\n",
       "    <tr>\n",
       "      <th>C(Event)</th>\n",
       "      <td>2.068468e+07</td>\n",
       "      <td>3.0</td>\n",
       "      <td>18.621541</td>\n",
       "      <td>5.564044e-12</td>\n",
       "    </tr>\n",
       "    <tr>\n",
       "      <th>C(Group)</th>\n",
       "      <td>8.674021e+04</td>\n",
       "      <td>1.0</td>\n",
       "      <td>0.234266</td>\n",
       "      <td>6.284093e-01</td>\n",
       "    </tr>\n",
       "    <tr>\n",
       "      <th>C(Event):C(Group)</th>\n",
       "      <td>7.307900e+06</td>\n",
       "      <td>3.0</td>\n",
       "      <td>6.578993</td>\n",
       "      <td>1.973640e-04</td>\n",
       "    </tr>\n",
       "    <tr>\n",
       "      <th>Residual</th>\n",
       "      <td>1.285928e+09</td>\n",
       "      <td>3473.0</td>\n",
       "      <td>NaN</td>\n",
       "      <td>NaN</td>\n",
       "    </tr>\n",
       "  </tbody>\n",
       "</table>\n",
       "</div>"
      ],
      "text/plain": [
       "                         sum_sq      df          F        PR(>F)\n",
       "C(Event)           2.068468e+07     3.0  18.621541  5.564044e-12\n",
       "C(Group)           8.674021e+04     1.0   0.234266  6.284093e-01\n",
       "C(Event):C(Group)  7.307900e+06     3.0   6.578993  1.973640e-04\n",
       "Residual           1.285928e+09  3473.0        NaN           NaN"
      ]
     },
     "execution_count": 18,
     "metadata": {},
     "output_type": "execute_result"
    }
   ],
   "source": [
    "import statsmodels.api as sm\n",
    "from statsmodels.formula.api import ols\n",
    "import researchpy as rp\n",
    "import scipy.stats as stats\n",
    "\n",
    "#perform two-way ANOVA\n",
    "model = ols('Time ~ C(Event) + C(Group) + C(Event):C(Group)', data=df_res_all).fit()\n",
    "sm.stats.anova_lm(model, typ=2)"
   ]
  },
  {
   "cell_type": "markdown",
   "metadata": {},
   "source": [
    "The p value of the interaction between Event (Moving and Static) and Group (NT and ASD) in all the participants is 0.000197 which means that there is a statistical significance in the mean time duration values between the groups and events. "
   ]
  },
  {
   "cell_type": "markdown",
   "metadata": {},
   "source": [
    "#### T Test between groups for each event - All participants"
   ]
  },
  {
   "cell_type": "code",
   "execution_count": 28,
   "metadata": {},
   "outputs": [
    {
     "data": {
      "text/plain": [
       "'PAC-1'"
      ]
     },
     "metadata": {},
     "output_type": "display_data"
    },
    {
     "data": {
      "text/plain": [
       "Ttest_indResult(statistic=-0.22139792448055898, pvalue=0.8248127830514239)"
      ]
     },
     "metadata": {},
     "output_type": "display_data"
    },
    {
     "data": {
      "text/plain": [
       "'PAC-2'"
      ]
     },
     "metadata": {},
     "output_type": "display_data"
    },
    {
     "data": {
      "text/plain": [
       "Ttest_indResult(statistic=1.7093861162245287, pvalue=0.08776872025198748)"
      ]
     },
     "metadata": {},
     "output_type": "display_data"
    },
    {
     "data": {
      "text/plain": [
       "'PAC-1 Co-op'"
      ]
     },
     "metadata": {},
     "output_type": "display_data"
    },
    {
     "data": {
      "text/plain": [
       "Ttest_indResult(statistic=4.47491658404309, pvalue=9.073863308550244e-06)"
      ]
     },
     "metadata": {},
     "output_type": "display_data"
    },
    {
     "data": {
      "text/plain": [
       "'PAC-2 Co-op'"
      ]
     },
     "metadata": {},
     "output_type": "display_data"
    },
    {
     "data": {
      "text/plain": [
       "Ttest_indResult(statistic=-1.5182657277053981, pvalue=0.12952305155752167)"
      ]
     },
     "metadata": {},
     "output_type": "display_data"
    }
   ],
   "source": [
    "for event in df_res_all.Event.unique():\n",
    "    temp_df = df_res_all[df_res_all.Event == event]\n",
    "\n",
    "    results = stats.ttest_ind(temp_df.loc[temp_df.Group == unique_group_list[0], \"Time\"], \\\n",
    "               temp_df.loc[temp_df.Group == unique_group_list[1], \"Time\"])\n",
    "    display(event)\n",
    "    display(results)"
   ]
  },
  {
   "cell_type": "markdown",
   "metadata": {},
   "source": [
    "No significant difference observed between the groups among any of the events.\n",
    " \n",
    "Note - Assuming confidence level of 95% "
   ]
  },
  {
   "cell_type": "markdown",
   "metadata": {},
   "source": [
    "### 2x2 ANOVA - Age selected participants"
   ]
  },
  {
   "cell_type": "code",
   "execution_count": 29,
   "metadata": {},
   "outputs": [
    {
     "data": {
      "text/plain": [
       "['P20', 'P21', 'P25', 'P28', 'P9']"
      ]
     },
     "execution_count": 29,
     "metadata": {},
     "output_type": "execute_result"
    }
   ],
   "source": [
    "# Defining the groups\n",
    "age_list = [\"P10\", \"P11\", \"P12\", \"P14\", \"P16\", \"P2\", \"P20\", \"P21\", \"P25\", \"P28\", \\\n",
    "    \"P4\", \"P6\", \"P8\", \"P9\"]\n",
    "all_list = list(df.participant.unique())\n",
    "asd_list = [\"P2\", \"P3\", \"P4\", \"P6\", \"P7\", \"P8\", \"P10\", \"P11\", \"P12\", \"P14\", \"P16\"]\n",
    "nt_list = [x for x in age_list if x not in asd_list]\n",
    "\n",
    "nt_list"
   ]
  },
  {
   "cell_type": "code",
   "execution_count": 31,
   "metadata": {},
   "outputs": [
    {
     "name": "stdout",
     "output_type": "stream",
     "text": [
      "PAC1 Average: 369.46 ms\n",
      "PAC2 Average: 310.68 ms\n",
      "PAC1 Co Average: 284.44 ms\n",
      "PAC2 Co Average: 658.07 ms\n",
      "PAC1 Average: 316.74 ms\n",
      "PAC2 Average: 344.62 ms\n",
      "PAC1 Co Average: 463.24 ms\n",
      "PAC2 Co Average: 456.36 ms\n"
     ]
    },
    {
     "data": {
      "text/html": [
       "<div>\n",
       "<style scoped>\n",
       "    .dataframe tbody tr th:only-of-type {\n",
       "        vertical-align: middle;\n",
       "    }\n",
       "\n",
       "    .dataframe tbody tr th {\n",
       "        vertical-align: top;\n",
       "    }\n",
       "\n",
       "    .dataframe thead th {\n",
       "        text-align: right;\n",
       "    }\n",
       "</style>\n",
       "<table border=\"1\" class=\"dataframe\">\n",
       "  <thead>\n",
       "    <tr style=\"text-align: right;\">\n",
       "      <th></th>\n",
       "      <th>Event</th>\n",
       "      <th>Group</th>\n",
       "      <th>Time</th>\n",
       "    </tr>\n",
       "  </thead>\n",
       "  <tbody>\n",
       "    <tr>\n",
       "      <th>0</th>\n",
       "      <td>PAC-1</td>\n",
       "      <td>Neurotypical</td>\n",
       "      <td>1329.7536</td>\n",
       "    </tr>\n",
       "    <tr>\n",
       "      <th>1</th>\n",
       "      <td>PAC-1</td>\n",
       "      <td>Neurotypical</td>\n",
       "      <td>773.0048</td>\n",
       "    </tr>\n",
       "    <tr>\n",
       "      <th>2</th>\n",
       "      <td>PAC-1</td>\n",
       "      <td>Neurotypical</td>\n",
       "      <td>883.8528</td>\n",
       "    </tr>\n",
       "    <tr>\n",
       "      <th>3</th>\n",
       "      <td>PAC-1</td>\n",
       "      <td>Neurotypical</td>\n",
       "      <td>827.7760</td>\n",
       "    </tr>\n",
       "    <tr>\n",
       "      <th>4</th>\n",
       "      <td>PAC-1</td>\n",
       "      <td>Neurotypical</td>\n",
       "      <td>184.0128</td>\n",
       "    </tr>\n",
       "    <tr>\n",
       "      <th>...</th>\n",
       "      <td>...</td>\n",
       "      <td>...</td>\n",
       "      <td>...</td>\n",
       "    </tr>\n",
       "    <tr>\n",
       "      <th>2283</th>\n",
       "      <td>PAC-2 Co-op</td>\n",
       "      <td>ASD</td>\n",
       "      <td>1053.2352</td>\n",
       "    </tr>\n",
       "    <tr>\n",
       "      <th>2284</th>\n",
       "      <td>PAC-2 Co-op</td>\n",
       "      <td>ASD</td>\n",
       "      <td>995.2256</td>\n",
       "    </tr>\n",
       "    <tr>\n",
       "      <th>2285</th>\n",
       "      <td>PAC-2 Co-op</td>\n",
       "      <td>ASD</td>\n",
       "      <td>459.1104</td>\n",
       "    </tr>\n",
       "    <tr>\n",
       "      <th>2286</th>\n",
       "      <td>PAC-2 Co-op</td>\n",
       "      <td>ASD</td>\n",
       "      <td>520.9472</td>\n",
       "    </tr>\n",
       "    <tr>\n",
       "      <th>2287</th>\n",
       "      <td>PAC-2 Co-op</td>\n",
       "      <td>ASD</td>\n",
       "      <td>760.1792</td>\n",
       "    </tr>\n",
       "  </tbody>\n",
       "</table>\n",
       "<p>2288 rows × 3 columns</p>\n",
       "</div>"
      ],
      "text/plain": [
       "            Event         Group       Time\n",
       "0           PAC-1  Neurotypical  1329.7536\n",
       "1           PAC-1  Neurotypical   773.0048\n",
       "2           PAC-1  Neurotypical   883.8528\n",
       "3           PAC-1  Neurotypical   827.7760\n",
       "4           PAC-1  Neurotypical   184.0128\n",
       "...           ...           ...        ...\n",
       "2283  PAC-2 Co-op           ASD  1053.2352\n",
       "2284  PAC-2 Co-op           ASD   995.2256\n",
       "2285  PAC-2 Co-op           ASD   459.1104\n",
       "2286  PAC-2 Co-op           ASD   520.9472\n",
       "2287  PAC-2 Co-op           ASD   760.1792\n",
       "\n",
       "[2288 rows x 3 columns]"
      ]
     },
     "execution_count": 31,
     "metadata": {},
     "output_type": "execute_result"
    }
   ],
   "source": [
    "pac_asd_vals = pacAnalysis(df, asd_list)\n",
    "pac_nt_vals = pacAnalysis(df, nt_list)\n",
    "\n",
    "# Dataframe for plotting\n",
    "cols = [\"Event\", \"Group\", \"Time\"]\n",
    "unique_event_list = [\"PAC-1\", \"PAC-2\", \"PAC-1 Co-op\", \"PAC-2 Co-op\"]\n",
    "unique_group_list = [\"Neurotypical\", \"ASD\"]\n",
    "\n",
    "event_list = list()\n",
    "group_list = list()\n",
    "times_list = list()\n",
    "\n",
    "for i, l in enumerate([pac_nt_vals, pac_asd_vals]):\n",
    "    summer = 0\n",
    "    for j, x in enumerate(l):\n",
    "        event_list.extend([unique_event_list[j]] * len(x))\n",
    "        summer += len(x)\n",
    "        times_list.extend(x)\n",
    "    group_list.extend([unique_group_list[i]] * summer)\n",
    "\n",
    "df_res_age = pd.DataFrame(dict(zip(cols, [event_list, group_list, times_list])))\n",
    "df_res_age\n"
   ]
  },
  {
   "cell_type": "code",
   "execution_count": 33,
   "metadata": {},
   "outputs": [
    {
     "data": {
      "text/html": [
       "<div>\n",
       "<style scoped>\n",
       "    .dataframe tbody tr th:only-of-type {\n",
       "        vertical-align: middle;\n",
       "    }\n",
       "\n",
       "    .dataframe tbody tr th {\n",
       "        vertical-align: top;\n",
       "    }\n",
       "\n",
       "    .dataframe thead th {\n",
       "        text-align: right;\n",
       "    }\n",
       "</style>\n",
       "<table border=\"1\" class=\"dataframe\">\n",
       "  <thead>\n",
       "    <tr style=\"text-align: right;\">\n",
       "      <th></th>\n",
       "      <th>sum_sq</th>\n",
       "      <th>df</th>\n",
       "      <th>F</th>\n",
       "      <th>PR(&gt;F)</th>\n",
       "    </tr>\n",
       "  </thead>\n",
       "  <tbody>\n",
       "    <tr>\n",
       "      <th>C(Event)</th>\n",
       "      <td>1.874186e+07</td>\n",
       "      <td>3.0</td>\n",
       "      <td>13.558802</td>\n",
       "      <td>9.084697e-09</td>\n",
       "    </tr>\n",
       "    <tr>\n",
       "      <th>C(Group)</th>\n",
       "      <td>1.359555e+05</td>\n",
       "      <td>1.0</td>\n",
       "      <td>0.295071</td>\n",
       "      <td>5.870421e-01</td>\n",
       "    </tr>\n",
       "    <tr>\n",
       "      <th>C(Event):C(Group)</th>\n",
       "      <td>6.813151e+06</td>\n",
       "      <td>3.0</td>\n",
       "      <td>4.928976</td>\n",
       "      <td>2.050545e-03</td>\n",
       "    </tr>\n",
       "    <tr>\n",
       "      <th>Residual</th>\n",
       "      <td>1.050521e+09</td>\n",
       "      <td>2280.0</td>\n",
       "      <td>NaN</td>\n",
       "      <td>NaN</td>\n",
       "    </tr>\n",
       "  </tbody>\n",
       "</table>\n",
       "</div>"
      ],
      "text/plain": [
       "                         sum_sq      df          F        PR(>F)\n",
       "C(Event)           1.874186e+07     3.0  13.558802  9.084697e-09\n",
       "C(Group)           1.359555e+05     1.0   0.295071  5.870421e-01\n",
       "C(Event):C(Group)  6.813151e+06     3.0   4.928976  2.050545e-03\n",
       "Residual           1.050521e+09  2280.0        NaN           NaN"
      ]
     },
     "execution_count": 33,
     "metadata": {},
     "output_type": "execute_result"
    }
   ],
   "source": [
    "#perform two-way ANOVA\n",
    "model = ols('Time ~ C(Event) + C(Group) + C(Event):C(Group)', data=df_res_age).fit()\n",
    "sm.stats.anova_lm(model, typ=2)"
   ]
  },
  {
   "cell_type": "markdown",
   "metadata": {},
   "source": [
    "The p value of the interaction between Event (Moving and Static) and Group (NT and ASD) in the age selected participants is 0.00205 which means that there is a statistical significance in the mean time duration values between the groups and events. "
   ]
  },
  {
   "cell_type": "markdown",
   "metadata": {},
   "source": [
    "#### T Test between groups for each event - Age selected participants"
   ]
  },
  {
   "cell_type": "code",
   "execution_count": 34,
   "metadata": {},
   "outputs": [
    {
     "data": {
      "text/plain": [
       "'PAC-1'"
      ]
     },
     "metadata": {},
     "output_type": "display_data"
    },
    {
     "data": {
      "text/plain": [
       "Ttest_indResult(statistic=-1.787337665280147, pvalue=0.07418181414789184)"
      ]
     },
     "metadata": {},
     "output_type": "display_data"
    },
    {
     "data": {
      "text/plain": [
       "'PAC-2'"
      ]
     },
     "metadata": {},
     "output_type": "display_data"
    },
    {
     "data": {
      "text/plain": [
       "Ttest_indResult(statistic=1.0176392630601343, pvalue=0.30932724529381916)"
      ]
     },
     "metadata": {},
     "output_type": "display_data"
    },
    {
     "data": {
      "text/plain": [
       "'PAC-1 Co-op'"
      ]
     },
     "metadata": {},
     "output_type": "display_data"
    },
    {
     "data": {
      "text/plain": [
       "Ttest_indResult(statistic=3.6967777904961543, pvalue=0.0002492866409919805)"
      ]
     },
     "metadata": {},
     "output_type": "display_data"
    },
    {
     "data": {
      "text/plain": [
       "'PAC-2 Co-op'"
      ]
     },
     "metadata": {},
     "output_type": "display_data"
    },
    {
     "data": {
      "text/plain": [
       "Ttest_indResult(statistic=-1.3039632761075415, pvalue=0.19308390227106112)"
      ]
     },
     "metadata": {},
     "output_type": "display_data"
    }
   ],
   "source": [
    "for event in df_res_age.Event.unique():\n",
    "    temp_df = df_res_age[df_res_age.Event == event]\n",
    "\n",
    "    results = stats.ttest_ind(temp_df.loc[temp_df.Group == unique_group_list[0], \"Time\"], \\\n",
    "               temp_df.loc[temp_df.Group == unique_group_list[1], \"Time\"])\n",
    "    display(event)\n",
    "    display(results)"
   ]
  },
  {
   "cell_type": "markdown",
   "metadata": {},
   "source": [
    "PAC Moving Co-op mode has significant statistical difference with a p-value of 0.00024 between the age selected Neurotypical and ASD groups"
   ]
  },
  {
   "cell_type": "code",
   "execution_count": 56,
   "metadata": {},
   "outputs": [
    {
     "data": {
      "text/plain": [
       "Event        Group         Time     \n",
       "PAC-1        ASD           0.0000           0.0000\n",
       "                           6.0032          12.0064\n",
       "                           7.0016          14.0032\n",
       "                           16.9984         33.9968\n",
       "                           18.0096         36.0192\n",
       "                                           ...    \n",
       "PAC-2 Co-op  Neurotypical  2059.8400     4119.6800\n",
       "                           2138.0224     4276.0448\n",
       "                           4227.2128     8454.4256\n",
       "                           6823.6032    13647.2064\n",
       "                           6860.1216    13720.2432\n",
       "Length: 2517, dtype: float64"
      ]
     },
     "execution_count": 56,
     "metadata": {},
     "output_type": "execute_result"
    }
   ],
   "source": [
    "def summer(a):\n",
    "    return a[0] + a[1]\n",
    "df_res2.groupby(list(df_res2.columns)).apply(lambda x: summer([x.Time.values[0], x.Time.values[0]]))"
   ]
  },
  {
   "cell_type": "code",
   "execution_count": 55,
   "metadata": {},
   "outputs": [
    {
     "data": {
      "text/html": [
       "<div>\n",
       "<style scoped>\n",
       "    .dataframe tbody tr th:only-of-type {\n",
       "        vertical-align: middle;\n",
       "    }\n",
       "\n",
       "    .dataframe tbody tr th {\n",
       "        vertical-align: top;\n",
       "    }\n",
       "\n",
       "    .dataframe thead th {\n",
       "        text-align: right;\n",
       "    }\n",
       "</style>\n",
       "<table border=\"1\" class=\"dataframe\">\n",
       "  <thead>\n",
       "    <tr style=\"text-align: right;\">\n",
       "      <th></th>\n",
       "      <th>Event</th>\n",
       "      <th>Group</th>\n",
       "      <th>Time</th>\n",
       "    </tr>\n",
       "  </thead>\n",
       "  <tbody>\n",
       "    <tr>\n",
       "      <th>0</th>\n",
       "      <td>PAC-1</td>\n",
       "      <td>Neurotypical</td>\n",
       "      <td>2663.1680</td>\n",
       "    </tr>\n",
       "    <tr>\n",
       "      <th>1</th>\n",
       "      <td>PAC-1</td>\n",
       "      <td>Neurotypical</td>\n",
       "      <td>359.6288</td>\n",
       "    </tr>\n",
       "    <tr>\n",
       "      <th>2</th>\n",
       "      <td>PAC-1</td>\n",
       "      <td>Neurotypical</td>\n",
       "      <td>172.5312</td>\n",
       "    </tr>\n",
       "    <tr>\n",
       "      <th>3</th>\n",
       "      <td>PAC-1</td>\n",
       "      <td>Neurotypical</td>\n",
       "      <td>389.9520</td>\n",
       "    </tr>\n",
       "    <tr>\n",
       "      <th>4</th>\n",
       "      <td>PAC-1</td>\n",
       "      <td>Neurotypical</td>\n",
       "      <td>217.2800</td>\n",
       "    </tr>\n",
       "    <tr>\n",
       "      <th>...</th>\n",
       "      <td>...</td>\n",
       "      <td>...</td>\n",
       "      <td>...</td>\n",
       "    </tr>\n",
       "    <tr>\n",
       "      <th>3476</th>\n",
       "      <td>PAC-2 Co-op</td>\n",
       "      <td>ASD</td>\n",
       "      <td>1053.2352</td>\n",
       "    </tr>\n",
       "    <tr>\n",
       "      <th>3477</th>\n",
       "      <td>PAC-2 Co-op</td>\n",
       "      <td>ASD</td>\n",
       "      <td>995.2256</td>\n",
       "    </tr>\n",
       "    <tr>\n",
       "      <th>3478</th>\n",
       "      <td>PAC-2 Co-op</td>\n",
       "      <td>ASD</td>\n",
       "      <td>459.1104</td>\n",
       "    </tr>\n",
       "    <tr>\n",
       "      <th>3479</th>\n",
       "      <td>PAC-2 Co-op</td>\n",
       "      <td>ASD</td>\n",
       "      <td>520.9472</td>\n",
       "    </tr>\n",
       "    <tr>\n",
       "      <th>3480</th>\n",
       "      <td>PAC-2 Co-op</td>\n",
       "      <td>ASD</td>\n",
       "      <td>760.1792</td>\n",
       "    </tr>\n",
       "  </tbody>\n",
       "</table>\n",
       "<p>2517 rows × 3 columns</p>\n",
       "</div>"
      ],
      "text/plain": [
       "            Event         Group       Time\n",
       "0           PAC-1  Neurotypical  2663.1680\n",
       "1           PAC-1  Neurotypical   359.6288\n",
       "2           PAC-1  Neurotypical   172.5312\n",
       "3           PAC-1  Neurotypical   389.9520\n",
       "4           PAC-1  Neurotypical   217.2800\n",
       "...           ...           ...        ...\n",
       "3476  PAC-2 Co-op           ASD  1053.2352\n",
       "3477  PAC-2 Co-op           ASD   995.2256\n",
       "3478  PAC-2 Co-op           ASD   459.1104\n",
       "3479  PAC-2 Co-op           ASD   520.9472\n",
       "3480  PAC-2 Co-op           ASD   760.1792\n",
       "\n",
       "[2517 rows x 3 columns]"
      ]
     },
     "execution_count": 55,
     "metadata": {},
     "output_type": "execute_result"
    }
   ],
   "source": [
    "df_res2.drop_duplicates()"
   ]
  },
  {
   "cell_type": "code",
   "execution_count": null,
   "metadata": {},
   "outputs": [],
   "source": []
  }
 ],
 "metadata": {
  "kernelspec": {
   "display_name": "Python 3.8.8 ('base')",
   "language": "python",
   "name": "python3"
  },
  "language_info": {
   "codemirror_mode": {
    "name": "ipython",
    "version": 3
   },
   "file_extension": ".py",
   "mimetype": "text/x-python",
   "name": "python",
   "nbconvert_exporter": "python",
   "pygments_lexer": "ipython3",
   "version": "3.8.8"
  },
  "orig_nbformat": 4,
  "vscode": {
   "interpreter": {
    "hash": "c0895a924b01adb1ff5c726ba5f3973ace93e87b84adcd2b381b26e21411a886"
   }
  }
 },
 "nbformat": 4,
 "nbformat_minor": 2
}
