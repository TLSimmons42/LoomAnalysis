{
 "cells": [
  {
   "cell_type": "code",
   "execution_count": 1,
   "metadata": {},
   "outputs": [],
   "source": [
    "import os\n",
    "from tqdm import tqdm"
   ]
  },
  {
   "cell_type": "code",
   "execution_count": 16,
   "metadata": {},
   "outputs": [],
   "source": [
    "def comma_replacer(path):\n",
    "    text = open(path, \"r\")\n",
    "    text = ''.join([i for i in text]).replace(\",,,\", \"\")\n",
    "    x = open(path,\"w\")\n",
    "    x.writelines(text)\n",
    "    x.close()"
   ]
  },
  {
   "cell_type": "code",
   "execution_count": 19,
   "metadata": {},
   "outputs": [],
   "source": [
    "dir_path = \"../Pupil Data/\"\n",
    "corrector_list = [dir_path+x for x in os.listdir(dir_path) if \"_P\" in x]\n",
    "res = list(map(comma_replacer, corrector_list))"
   ]
  },
  {
   "cell_type": "code",
   "execution_count": 13,
   "metadata": {},
   "outputs": [
    {
     "data": {
      "text/plain": [
       "['../GazeData/analytics2_P2.csv',\n",
       " '../GazeData/analytics2_P3.csv',\n",
       " '../GazeData/analytics2_P7.csv',\n",
       " '../GazeData/analytics2_P6.csv',\n",
       " '../GazeData/analytics2_P4.csv',\n",
       " '../GazeData/analytics2_P5.csv',\n",
       " '../GazeData/analytics2_P13.csv',\n",
       " '../GazeData/analytics2_P12.csv',\n",
       " '../GazeData/analytics2_P10.csv',\n",
       " '../GazeData/analytics2_P11.csv',\n",
       " '../GazeData/analytics2_P29.csv',\n",
       " '../GazeData/analytics2_P28.csv',\n",
       " '../GazeData/analytics2_P14.csv',\n",
       " '../GazeData/analytics2_P16.csv',\n",
       " '../GazeData/analytics2_P26.csv',\n",
       " '../GazeData/analytics2_P27.csv',\n",
       " '../GazeData/analytics2_P19.csv',\n",
       " '../GazeData/analytics2_P25.csv',\n",
       " '../GazeData/analytics2_P30.csv',\n",
       " '../GazeData/analytics2_P24.csv',\n",
       " '../GazeData/analytics2_P18.csv',\n",
       " '../GazeData/analytics2_P20.csv',\n",
       " '../GazeData/analytics2_P21.csv',\n",
       " '../GazeData/analytics2_P23.csv',\n",
       " '../GazeData/analytics2_P22.csv',\n",
       " '../GazeData/analytics2_P8.csv',\n",
       " '../GazeData/analytics2_P9.csv']"
      ]
     },
     "execution_count": 13,
     "metadata": {},
     "output_type": "execute_result"
    }
   ],
   "source": [
    "os.listdir(\"../\")"
   ]
  },
  {
   "cell_type": "code",
   "execution_count": null,
   "metadata": {},
   "outputs": [],
   "source": []
  }
 ],
 "metadata": {
  "kernelspec": {
   "display_name": "Python 3.8.8 ('base')",
   "language": "python",
   "name": "python3"
  },
  "language_info": {
   "codemirror_mode": {
    "name": "ipython",
    "version": 3
   },
   "file_extension": ".py",
   "mimetype": "text/x-python",
   "name": "python",
   "nbconvert_exporter": "python",
   "pygments_lexer": "ipython3",
   "version": "3.8.8"
  },
  "orig_nbformat": 4,
  "vscode": {
   "interpreter": {
    "hash": "c0895a924b01adb1ff5c726ba5f3973ace93e87b84adcd2b381b26e21411a886"
   }
  }
 },
 "nbformat": 4,
 "nbformat_minor": 2
}
